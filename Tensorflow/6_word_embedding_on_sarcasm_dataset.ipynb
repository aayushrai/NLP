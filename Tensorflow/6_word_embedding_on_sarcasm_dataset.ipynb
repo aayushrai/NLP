{
  "nbformat": 4,
  "nbformat_minor": 0,
  "metadata": {
    "colab": {
      "name": "6_word_embedding_on_sarcasm_dataset.ipynb",
      "provenance": [],
      "authorship_tag": "ABX9TyOOwUvuSA4Xje6aSWkkqWV6",
      "include_colab_link": true
    },
    "kernelspec": {
      "name": "python3",
      "display_name": "Python 3"
    },
    "accelerator": "GPU"
  },
  "cells": [
    {
      "cell_type": "markdown",
      "metadata": {
        "id": "view-in-github",
        "colab_type": "text"
      },
      "source": [
        "<a href=\"https://colab.research.google.com/github/aayushrai/NLP/blob/master/Tensorflow/6_word_embedding_on_sarcasm_dataset.ipynb\" target=\"_parent\"><img src=\"https://colab.research.google.com/assets/colab-badge.svg\" alt=\"Open In Colab\"/></a>"
      ]
    },
    {
      "cell_type": "code",
      "metadata": {
        "id": "cO9oNpVncskO",
        "colab_type": "code",
        "outputId": "85340009-46bf-4cf9-b5be-6b140ff250f3",
        "colab": {
          "base_uri": "https://localhost:8080/",
          "height": 34
        }
      },
      "source": [
        "import tensorflow as tf\n",
        "print(tf.__version__)"
      ],
      "execution_count": 0,
      "outputs": [
        {
          "output_type": "stream",
          "text": [
            "2.2.0\n"
          ],
          "name": "stdout"
        }
      ]
    },
    {
      "cell_type": "code",
      "metadata": {
        "id": "f6sogNjidRec",
        "colab_type": "code",
        "colab": {}
      },
      "source": [
        "from tensorflow.keras.preprocessing.text import Tokenizer\n",
        "from tensorflow.keras.preprocessing.sequence import pad_sequences\n",
        "import json\n",
        "import numpy as np"
      ],
      "execution_count": 0,
      "outputs": []
    },
    {
      "cell_type": "code",
      "metadata": {
        "id": "PFkbJ4vTdyCW",
        "colab_type": "code",
        "outputId": "1e2d7f3c-e757-48d7-ccb2-142c78e00b7f",
        "colab": {
          "base_uri": "https://localhost:8080/",
          "height": 207
        }
      },
      "source": [
        "!wget --no-check-certificate \\\n",
        "    https://storage.googleapis.com/laurencemoroney-blog.appspot.com/sarcasm.json \\\n",
        "    -O /tmp/sarcasm.json"
      ],
      "execution_count": 0,
      "outputs": [
        {
          "output_type": "stream",
          "text": [
            "--2020-06-15 19:45:19--  https://storage.googleapis.com/laurencemoroney-blog.appspot.com/sarcasm.json\n",
            "Resolving storage.googleapis.com (storage.googleapis.com)... 108.177.119.128, 2a00:1450:4013:c00::80\n",
            "Connecting to storage.googleapis.com (storage.googleapis.com)|108.177.119.128|:443... connected.\n",
            "HTTP request sent, awaiting response... 200 OK\n",
            "Length: 5643545 (5.4M) [application/json]\n",
            "Saving to: ‘/tmp/sarcasm.json’\n",
            "\n",
            "\r/tmp/sarcasm.json     0%[                    ]       0  --.-KB/s               \r/tmp/sarcasm.json   100%[===================>]   5.38M  --.-KB/s    in 0.05s   \n",
            "\n",
            "2020-06-15 19:45:20 (108 MB/s) - ‘/tmp/sarcasm.json’ saved [5643545/5643545]\n",
            "\n"
          ],
          "name": "stdout"
        }
      ]
    },
    {
      "cell_type": "code",
      "metadata": {
        "id": "Z49qzopOd9mn",
        "colab_type": "code",
        "outputId": "e3ba4e6c-07da-4ed9-a2ec-1469493db90d",
        "colab": {
          "base_uri": "https://localhost:8080/",
          "height": 190
        }
      },
      "source": [
        "with open(\"/tmp/sarcasm.json\",\"r\") as f:\n",
        "    data = json.load(f)\n",
        "print(data)"
      ],
      "execution_count": 0,
      "outputs": [
        {
          "output_type": "stream",
          "text": [
            "IOPub data rate exceeded.\n",
            "The notebook server will temporarily stop sending output\n",
            "to the client in order to avoid crashing it.\n",
            "To change this limit, set the config variable\n",
            "`--NotebookApp.iopub_data_rate_limit`.\n",
            "\n",
            "Current values:\n",
            "NotebookApp.iopub_data_rate_limit=1000000.0 (bytes/sec)\n",
            "NotebookApp.rate_limit_window=3.0 (secs)\n",
            "\n"
          ],
          "name": "stderr"
        }
      ]
    },
    {
      "cell_type": "code",
      "metadata": {
        "id": "qe54r38CeWMv",
        "colab_type": "code",
        "colab": {}
      },
      "source": [
        "sentences = []\n",
        "labels =[]\n",
        "\n",
        "for element in data:\n",
        "   sentences.append(element[\"headline\"])\n",
        "   labels.append(element[\"is_sarcastic\"])"
      ],
      "execution_count": 0,
      "outputs": []
    },
    {
      "cell_type": "code",
      "metadata": {
        "id": "xoe-S3eie4sY",
        "colab_type": "code",
        "colab": {}
      },
      "source": [
        "vocab_size = 5000\n",
        "oov = \"<OOV>\"\n",
        "embedding_dim = 15\n",
        "max_length = 200\n",
        "epoch = 20\n",
        "truncate = \"post\"\n",
        "pad_type = \"post\"\n",
        "training_size = int(len(sentences)*0.75) # taking 75% training data of total size of dataset and remeaning 30% for testing"
      ],
      "execution_count": 0,
      "outputs": []
    },
    {
      "cell_type": "code",
      "metadata": {
        "id": "ULTj9jd5h3vI",
        "colab_type": "code",
        "colab": {}
      },
      "source": [
        "training_data = sentences[:training_size]\n",
        "training_labels = labels[:training_size]\n",
        "test_data = sentences[training_size:]\n",
        "test_labels = labels[training_size:]"
      ],
      "execution_count": 0,
      "outputs": []
    },
    {
      "cell_type": "code",
      "metadata": {
        "id": "8KldeMwog37Q",
        "colab_type": "code",
        "colab": {}
      },
      "source": [
        "tokenizer = Tokenizer(num_words=vocab_size,oov_token=oov)\n",
        "tokenizer.fit_on_texts(training_data)\n",
        "\n",
        "#bword to index dis\n",
        "word_index = tokenizer.word_index\n",
        "\n",
        "training_sequences = tokenizer.texts_to_sequences(training_data)\n",
        "training_pad_sequeces = pad_sequences(training_sequences,maxlen=max_length,truncating=truncate)\n",
        "\n",
        "test_sequences = tokenizer.texts_to_sequences(test_data)\n",
        "test_pad_sequeces = pad_sequences(test_sequences,maxlen=max_length,truncating=truncate)"
      ],
      "execution_count": 0,
      "outputs": []
    },
    {
      "cell_type": "code",
      "metadata": {
        "id": "11oUKDLgjpTN",
        "colab_type": "code",
        "colab": {}
      },
      "source": [
        "test_pad_sequeces = np.array(test_pad_sequeces)\n",
        "training_pad_sequeces = np.array(training_pad_sequeces)\n",
        "\n",
        "training_labels = np.array(training_labels)\n",
        "test_labels = np.array(test_labels)"
      ],
      "execution_count": 0,
      "outputs": []
    },
    {
      "cell_type": "code",
      "metadata": {
        "id": "fWFlgykJkPSe",
        "colab_type": "code",
        "colab": {}
      },
      "source": [
        "model = tf.keras.Sequential([\n",
        "     tf.keras.layers.Embedding(vocab_size,embedding_dim,input_length=max_length),\n",
        "     tf.keras.layers.GlobalAveragePooling1D(),\n",
        "     tf.keras.layers.Dense(24,activation=\"relu\"),\n",
        "     tf.keras.layers.Dense(1,activation=\"sigmoid\")                        \n",
        "])\n",
        "model.compile(loss=\"binary_crossentropy\",optimizer=\"adam\",metrics=[\"accuracy\"])"
      ],
      "execution_count": 0,
      "outputs": []
    },
    {
      "cell_type": "code",
      "metadata": {
        "id": "U7G2EfNimKAt",
        "colab_type": "code",
        "outputId": "d52564cf-1c85-4637-ae1b-1e1133a2b7e2",
        "colab": {
          "base_uri": "https://localhost:8080/",
          "height": 294
        }
      },
      "source": [
        "model.summary()"
      ],
      "execution_count": 0,
      "outputs": [
        {
          "output_type": "stream",
          "text": [
            "Model: \"sequential_5\"\n",
            "_________________________________________________________________\n",
            "Layer (type)                 Output Shape              Param #   \n",
            "=================================================================\n",
            "embedding_5 (Embedding)      (None, 200, 15)           75000     \n",
            "_________________________________________________________________\n",
            "global_average_pooling1d_5 ( (None, 15)                0         \n",
            "_________________________________________________________________\n",
            "dense_10 (Dense)             (None, 24)                384       \n",
            "_________________________________________________________________\n",
            "dense_11 (Dense)             (None, 1)                 25        \n",
            "=================================================================\n",
            "Total params: 75,409\n",
            "Trainable params: 75,409\n",
            "Non-trainable params: 0\n",
            "_________________________________________________________________\n"
          ],
          "name": "stdout"
        }
      ]
    },
    {
      "cell_type": "code",
      "metadata": {
        "id": "XtqVUxjpmMEG",
        "colab_type": "code",
        "outputId": "828bc848-aee1-49e1-f597-a78b171ef75a",
        "colab": {
          "base_uri": "https://localhost:8080/",
          "height": 708
        }
      },
      "source": [
        "history = model.fit(training_pad_sequeces,training_labels,epochs=epoch,verbose=2,validation_data=(test_pad_sequeces,test_labels))"
      ],
      "execution_count": 0,
      "outputs": [
        {
          "output_type": "stream",
          "text": [
            "Epoch 1/20\n",
            "626/626 - 3s - loss: 0.6832 - accuracy: 0.5602 - val_loss: 0.6746 - val_accuracy: 0.5635\n",
            "Epoch 2/20\n",
            "626/626 - 3s - loss: 0.6128 - accuracy: 0.6558 - val_loss: 0.5295 - val_accuracy: 0.7966\n",
            "Epoch 3/20\n",
            "626/626 - 3s - loss: 0.4294 - accuracy: 0.8277 - val_loss: 0.4064 - val_accuracy: 0.8303\n",
            "Epoch 4/20\n",
            "626/626 - 3s - loss: 0.3548 - accuracy: 0.8550 - val_loss: 0.3788 - val_accuracy: 0.8384\n",
            "Epoch 5/20\n",
            "626/626 - 3s - loss: 0.3183 - accuracy: 0.8716 - val_loss: 0.3661 - val_accuracy: 0.8453\n",
            "Epoch 6/20\n",
            "626/626 - 3s - loss: 0.2947 - accuracy: 0.8806 - val_loss: 0.3588 - val_accuracy: 0.8485\n",
            "Epoch 7/20\n",
            "626/626 - 3s - loss: 0.2753 - accuracy: 0.8883 - val_loss: 0.3544 - val_accuracy: 0.8480\n",
            "Epoch 8/20\n",
            "626/626 - 3s - loss: 0.2617 - accuracy: 0.8943 - val_loss: 0.3575 - val_accuracy: 0.8458\n",
            "Epoch 9/20\n",
            "626/626 - 3s - loss: 0.2482 - accuracy: 0.9002 - val_loss: 0.3559 - val_accuracy: 0.8485\n",
            "Epoch 10/20\n",
            "626/626 - 3s - loss: 0.2393 - accuracy: 0.9043 - val_loss: 0.3764 - val_accuracy: 0.8359\n",
            "Epoch 11/20\n",
            "626/626 - 3s - loss: 0.2294 - accuracy: 0.9076 - val_loss: 0.3707 - val_accuracy: 0.8441\n",
            "Epoch 12/20\n",
            "626/626 - 3s - loss: 0.2241 - accuracy: 0.9083 - val_loss: 0.3680 - val_accuracy: 0.8470\n",
            "Epoch 13/20\n",
            "626/626 - 3s - loss: 0.2163 - accuracy: 0.9129 - val_loss: 0.3739 - val_accuracy: 0.8458\n",
            "Epoch 14/20\n",
            "626/626 - 3s - loss: 0.2088 - accuracy: 0.9150 - val_loss: 0.3802 - val_accuracy: 0.8453\n",
            "Epoch 15/20\n",
            "626/626 - 3s - loss: 0.2023 - accuracy: 0.9194 - val_loss: 0.3874 - val_accuracy: 0.8446\n",
            "Epoch 16/20\n",
            "626/626 - 3s - loss: 0.1980 - accuracy: 0.9205 - val_loss: 0.3947 - val_accuracy: 0.8437\n",
            "Epoch 17/20\n",
            "626/626 - 3s - loss: 0.1926 - accuracy: 0.9238 - val_loss: 0.4248 - val_accuracy: 0.8333\n",
            "Epoch 18/20\n",
            "626/626 - 3s - loss: 0.1908 - accuracy: 0.9224 - val_loss: 0.4098 - val_accuracy: 0.8420\n",
            "Epoch 19/20\n",
            "626/626 - 3s - loss: 0.1866 - accuracy: 0.9258 - val_loss: 0.4229 - val_accuracy: 0.8386\n",
            "Epoch 20/20\n",
            "626/626 - 3s - loss: 0.1820 - accuracy: 0.9280 - val_loss: 0.4267 - val_accuracy: 0.8398\n"
          ],
          "name": "stdout"
        }
      ]
    },
    {
      "cell_type": "code",
      "metadata": {
        "id": "_FGAOJhpnJyO",
        "colab_type": "code",
        "outputId": "477625ec-1dee-41e2-e7e9-8416d6205816",
        "colab": {
          "base_uri": "https://localhost:8080/",
          "height": 542
        }
      },
      "source": [
        "import matplotlib.pyplot as plt\n",
        "\n",
        "def plot_graph(history,string):\n",
        "  plt.plot(history.history[string])\n",
        "  plt.plot(history.history[\"val_\"+string])\n",
        "  plt.xlabel(\"Epoch\")\n",
        "  plt.ylabel(string)\n",
        "  plt.legend([string,\"val_\"+string])\n",
        "  plt.show()\n",
        "\n",
        "plot_graph(history,\"accuracy\")\n",
        "plot_graph(history,\"loss\")"
      ],
      "execution_count": 0,
      "outputs": [
        {
          "output_type": "display_data",
          "data": {
            "image/png": "[encoded data removed]",
            "text/plain": [
              "<Figure size 432x288 with 1 Axes>"
            ]
          },
          "metadata": {
            "tags": [],
            "needs_background": "light"
          }
        },
        {
          "output_type": "display_data",
          "data": {
            "image/png": "[encoded data removed]",
            "text/plain": [
              "<Figure size 432x288 with 1 Axes>"
            ]
          },
          "metadata": {
            "tags": [],
            "needs_background": "light"
          }
        }
      ]
    },
    {
      "cell_type": "code",
      "metadata": {
        "id": "-Ml-O6eBovT3",
        "colab_type": "code",
        "colab": {}
      },
      "source": [
        ""
      ],
      "execution_count": 0,
      "outputs": []
    }
  ]
}