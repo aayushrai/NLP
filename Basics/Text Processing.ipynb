{
 "cells": [
  {
   "cell_type": "markdown",
   "metadata": {},
   "source": [
    "# Text Processing\n",
    "\n",
    "## Capturing Text Data\n",
    "\n",
    "### Plain Text"
   ]
  },
  {
   "cell_type": "code",
   "execution_count": 22,
   "metadata": {},
   "outputs": [
    {
     "name": "stdout",
     "output_type": "stream",
     "text": [
      "Hieroglyphic writing dates from c. 3000 BC, and is composed of hundreds of symbols. A hieroglyph can represent a word, a sound, or a silent determinative; and the same symbol can serve different purposes in different contexts. Hieroglyphs were a formal script, used on stone monuments and in tombs, that could be as detailed as individual works of art.\n",
      "\n"
     ]
    }
   ],
   "source": [
    "import os\n",
    "\n",
    "# Read in a plain text file\n",
    "with open(os.path.join(\"data\", \"hieroglyph.txt\"), \"r\") as f:\n",
    "    text = f.read()\n",
    "    print(text)"
   ]
  },
  {
   "cell_type": "markdown",
   "metadata": {},
   "source": [
    "### Tabular Data"
   ]
  },
  {
   "cell_type": "code",
   "execution_count": 23,
   "metadata": {
    "scrolled": true
   },
   "outputs": [
    {
     "data": {
      "text/html": [
       "<div>\n",
       "<style scoped>\n",
       "    .dataframe tbody tr th:only-of-type {\n",
       "        vertical-align: middle;\n",
       "    }\n",
       "\n",
       "    .dataframe tbody tr th {\n",
       "        vertical-align: top;\n",
       "    }\n",
       "\n",
       "    .dataframe thead th {\n",
       "        text-align: right;\n",
       "    }\n",
       "</style>\n",
       "<table border=\"1\" class=\"dataframe\">\n",
       "  <thead>\n",
       "    <tr style=\"text-align: right;\">\n",
       "      <th></th>\n",
       "      <th>publisher</th>\n",
       "      <th>title</th>\n",
       "    </tr>\n",
       "  </thead>\n",
       "  <tbody>\n",
       "    <tr>\n",
       "      <td>0</td>\n",
       "      <td>Livemint</td>\n",
       "      <td>fed's charles plosser sees high bar for change...</td>\n",
       "    </tr>\n",
       "    <tr>\n",
       "      <td>1</td>\n",
       "      <td>IFA Magazine</td>\n",
       "      <td>us open: stocks fall after fed official hints ...</td>\n",
       "    </tr>\n",
       "    <tr>\n",
       "      <td>2</td>\n",
       "      <td>IFA Magazine</td>\n",
       "      <td>fed risks falling 'behind the curve', charles ...</td>\n",
       "    </tr>\n",
       "    <tr>\n",
       "      <td>3</td>\n",
       "      <td>Moneynews</td>\n",
       "      <td>fed's plosser: nasty weather has curbed job gr...</td>\n",
       "    </tr>\n",
       "    <tr>\n",
       "      <td>4</td>\n",
       "      <td>NASDAQ</td>\n",
       "      <td>plosser: fed may have to accelerate tapering pace</td>\n",
       "    </tr>\n",
       "  </tbody>\n",
       "</table>\n",
       "</div>"
      ],
      "text/plain": [
       "      publisher                                              title\n",
       "0      Livemint  fed's charles plosser sees high bar for change...\n",
       "1  IFA Magazine  us open: stocks fall after fed official hints ...\n",
       "2  IFA Magazine  fed risks falling 'behind the curve', charles ...\n",
       "3     Moneynews  fed's plosser: nasty weather has curbed job gr...\n",
       "4        NASDAQ  plosser: fed may have to accelerate tapering pace"
      ]
     },
     "execution_count": 23,
     "metadata": {},
     "output_type": "execute_result"
    }
   ],
   "source": [
    "import pandas as pd\n",
    "\n",
    "# Extract text column from a dataframe\n",
    "df = pd.read_csv(os.path.join(\"data\", \"news.csv\"))\n",
    "df.head()[['publisher', 'title']]\n",
    "\n",
    "# Convert text column to lowercase\n",
    "df['title'] = df['title'].str.lower()\n",
    "df.head()[['publisher', 'title']]"
   ]
  },
  {
   "cell_type": "markdown",
   "metadata": {},
   "source": [
    "### Online Resource"
   ]
  },
  {
   "cell_type": "code",
   "execution_count": 24,
   "metadata": {
    "scrolled": true
   },
   "outputs": [
    {
     "name": "stdout",
     "output_type": "stream",
     "text": [
      "{\n",
      "    \"success\": {\n",
      "        \"total\": 1\n",
      "    },\n",
      "    \"contents\": {\n",
      "        \"quotes\": [\n",
      "            {\n",
      "                \"quote\": \"If you get up in the morning and think the future is going to be better, it is a bright day. Otherwise, it's not.\",\n",
      "                \"length\": \"113\",\n",
      "                \"author\": \"Elon Musk\",\n",
      "                \"tags\": [\n",
      "                    \"inspire\",\n",
      "                    \"positive-thinking\"\n",
      "                ],\n",
      "                \"category\": \"inspire\",\n",
      "                \"language\": \"en\",\n",
      "                \"date\": \"2020-04-03\",\n",
      "                \"permalink\": \"https://theysaidso.com/quote/elon-musk-if-you-get-up-in-the-morning-and-think-the-future-is-going-to-be-bette\",\n",
      "                \"id\": \"mbtVO88S_KNdB4gBMyXaUgeF\",\n",
      "                \"background\": \"https://theysaidso.com/img/qod/qod-inspire.jpg\",\n",
      "                \"title\": \"Inspiring Quote of the day\"\n",
      "            }\n",
      "        ]\n",
      "    },\n",
      "    \"baseurl\": \"https://theysaidso.com\",\n",
      "    \"copyright\": {\n",
      "        \"year\": 2022,\n",
      "        \"url\": \"https://theysaidso.com\"\n",
      "    }\n",
      "}\n",
      "If you get up in the morning and think the future is going to be better, it is a bright day. Otherwise, it's not. \n",
      "-- Elon Musk\n"
     ]
    }
   ],
   "source": [
    "import requests\n",
    "import json\n",
    "\n",
    "# Fetch data from a REST API\n",
    "r = requests.get(\n",
    "    \"https://quotes.rest/qod.json\")\n",
    "res = r.json()\n",
    "print(json.dumps(res, indent=4))\n",
    "\n",
    "# Extract relevant object and field\n",
    "q = res[\"contents\"][\"quotes\"][0]\n",
    "print(q[\"quote\"], \"\\n--\", q[\"author\"])"
   ]
  },
  {
   "cell_type": "markdown",
   "metadata": {},
   "source": [
    "## Cleaning"
   ]
  },
  {
   "cell_type": "code",
   "execution_count": 25,
   "metadata": {
    "scrolled": true
   },
   "outputs": [
    {
     "name": "stdout",
     "output_type": "stream",
     "text": [
      "<html op=\"news\"><head><meta name=\"referrer\" content=\"origin\"><meta name=\"viewport\" content=\"width=device-width, initial-scale=1.0\"><link rel=\"stylesheet\" type=\"text/css\" href=\"news.css?yKbFoAYS7v71r3MOfeiU\">\n",
      "        <link rel=\"shortcut icon\" href=\"favicon.ico\">\n",
      "          <link rel=\"alternate\" type=\"application/rss+xml\" title=\"RSS\" href=\"rss\">\n",
      "        <title>Hacker News</title></head><body><center><table id=\"hnmain\" border=\"0\" cellpadding=\"0\" cellspacing=\"0\" width=\"85%\" bgcolor=\"#f6f6ef\">\n",
      "        <tr><td bgcolor=\"#ff6600\"><table border=\"0\" cellpadding=\"0\" cellspacing=\"0\" width=\"100%\" style=\"padding:2px\"><tr><td style=\"width:18px;padding-right:4px\"><a href=\"https://news.ycombinator.com\"><img src=\"y18.gif\" width=\"18\" height=\"18\" style=\"border:1px white solid;\"></a></td>\n",
      "                  <td style=\"line-height:12pt; height:10px;\"><span class=\"pagetop\"><b class=\"hnname\"><a href=\"news\">Hacker News</a></b>\n",
      "              <a href=\"newest\">new</a> | <a href=\"front\">past</a> | <a href=\"newcomments\">comments</a> | <a href=\"ask\">ask</a> | <a href=\"show\">show</a> | <a href=\"jobs\">jobs</a> | <a href=\"submit\">submit</a>            </span></td><td style=\"text-align:right;padding-right:4px;\"><span class=\"pagetop\">\n",
      "                              <a href=\"login?goto=news\">login</a>\n",
      "                          </span></td>\n",
      "              </tr></table></td></tr>\n",
      "<tr id=\"pagespace\" title=\"\" style=\"height:10px\"></tr><tr><td><table border=\"0\" cellpadding=\"0\" cellspacing=\"0\" class=\"itemlist\">\n",
      "              <tr class='athing' id='22770700'>\n",
      "      <td align=\"right\" valign=\"top\" class=\"title\"><span class=\"rank\">1.</span></td>      <td valign=\"top\" class=\"votelinks\"><center><a id='up_22770700' href='vote?id=22770700&amp;how=up&amp;goto=news'><div class='votearrow' title='upvote'></div></a></center></td><td class=\"title\"><a href=\"https://nim-lang.org/blog/2020/04/03/version-120-released.html\" class=\"storylink\">Nim v1.2 Released</a><span class=\"sitebit comhead\"> (<a href=\"from?site=nim-lang.org\"><span class=\"sitestr\">nim-lang.org</span></a>)</span></td></tr><tr><td colspan=\"2\"></td><td class=\"subtext\">\n",
      "        <span class=\"score\" id=\"score_22770700\">102 points</span> by <a href=\"user?id=narimiran\" class=\"hnuser\">narimiran</a> <span class=\"age\"><a href=\"item?id=22770700\">1 hour ago</a></span> <span id=\"unv_22770700\"></span> | <a href=\"hide?id=22770700&amp;goto=news\">hide</a> | <a href=\"item?id=22770700\">21&nbsp;comments</a>              </td></tr>\n",
      "      <tr class=\"spacer\" style=\"height:5px\"></tr>\n",
      "                <tr class='athing' id='22769724'>\n",
      "      <td align=\"right\" valign=\"top\" class=\"title\"><span class=\"rank\">2.</span></td>      <td valign=\"top\" class=\"votelinks\"><center><a id='up_22769724' href='vote?id=22769724&amp;how=up&amp;goto=news'><div class='votearrow' title='upvote'></div></a></center></td><td class=\"title\"><a href=\"https://apps.apple.com/us/app/os-x-server/id883878097\" class=\"storylink\">Apple's MacOS Server has a 1.5/5 rating on the Mac App Store</a><span class=\"sitebit comhead\"> (<a href=\"from?site=apps.apple.com\"><span class=\"sitestr\">apps.apple.com</span></a>)</span></td></tr><tr><td colspan=\"2\"></td><td class=\"subtext\">\n",
      "        <span class=\"score\" id=\"score_22769724\">181 points</span> by <a href=\"user?id=ethanpil\" class=\"hnuser\">ethanpil</a> <span class=\"age\"><a href=\"item?id=22769724\">2 hours ago</a></span> <span id=\"unv_22769724\"></span> | <a href=\"hide?id=22769724&amp;goto=news\">hide</a> | <a href=\"item?id=22769724\">66&nbsp;comments</a>              </td></tr>\n",
      "      <tr class=\"spacer\" style=\"height:5px\"></tr>\n",
      "                <tr class='athing' id='22767843'>\n",
      "      <td align=\"right\" valign=\"top\" class=\"title\"><span class=\"rank\">3.</span></td>      <td valign=\"top\" class=\"votelinks\"><center><a id='up_22767843' href='vote?id=22767843&amp;how=up&amp;goto=news'><div class='votearrow' title='upvote'></div></a></center></td><td class=\"title\"><a href=\"https://support.apple.com/guide/security/secbbd20b00b/1/web/1\" class=\"storylink\">Hardware Microphone Disconnect in Mac and iPad</a><span class=\"sitebit comhead\"> (<a href=\"from?site=support.apple.com\"><span class=\"sitestr\">support.apple.com</span></a>)</span></td></tr><tr><td colspan=\"2\"></td><td class=\"subtext\">\n",
      "        <span class=\"score\" id=\"score_22767843\">490 points</span> by <a href=\"user?id=gtufano\" class=\"hnuser\">gtufano</a> <span class=\"age\"><a href=\"item?id=22767843\">7 hours ago</a></span> <span id=\"unv_22767843\"></span> | <a href=\"hide?id=22767843&amp;goto=news\">hide</a> | <a href=\"item?id=22767843\">196&nbsp;comments</a>              </td></tr>\n",
      "      <tr class=\"spacer\" style=\"height:5px\"></tr>\n",
      "                <tr class='athing' id='22769319'>\n",
      "      <td align=\"right\" valign=\"top\" class=\"title\"><span class=\"rank\">4.</span></td>      <td valign=\"top\" class=\"votelinks\"><center><a id='up_22769319' href='vote?id=22769319&amp;how=up&amp;goto=news'><div class='votearrow' title='upvote'></div></a></center></td><td class=\"title\"><a href=\"https://amitness.com/2020/03/fixmatch-semi-supervised/\" class=\"storylink\">Semi-Supervised Learning: 85% accuracy on CIFAR-10 with only 10 labeled images</a><span class=\"sitebit comhead\"> (<a href=\"from?site=amitness.com\"><span class=\"sitestr\">amitness.com</span></a>)</span></td></tr><tr><td colspan=\"2\"></td><td class=\"subtext\">\n",
      "        <span class=\"score\" id=\"score_22769319\">114 points</span> by <a href=\"user?id=amitness\" class=\"hnuser\">amitness</a> <span class=\"age\"><a href=\"item?id=22769319\">3 hours ago</a></span> <span id=\"unv_22769319\"></span> | <a href=\"hide?id=22769319&amp;goto=news\">hide</a> | <a href=\"item?id=22769319\">34&nbsp;comments</a>              </td></tr>\n",
      "      <tr class=\"spacer\" style=\"height:5px\"></tr>\n",
      "                <tr class='athing' id='22771193'>\n",
      "      <td align=\"right\" valign=\"top\" class=\"title\"><span class=\"rank\">5.</span></td>      <td valign=\"top\" class=\"votelinks\"><center><a id='up_22771193' href='vote?id=22771193&amp;how=up&amp;goto=news'><div class='votearrow' title='upvote'></div></a></center></td><td class=\"title\"><a href=\"https://blog.cryptographyengineering.com/2020/04/03/does-zoom-use-end-to-end-encryption/\" class=\"storylink\">Does Zoom use end-to-end encryption?</a><span class=\"sitebit comhead\"> (<a href=\"from?site=cryptographyengineering.com\"><span class=\"sitestr\">cryptographyengineering.com</span></a>)</span></td></tr><tr><td colspan=\"2\"></td><td class=\"subtext\">\n",
      "        <span class=\"score\" id=\"score_22771193\">49 points</span> by <a href=\"user?id=feross\" class=\"hnuser\">feross</a> <span class=\"age\"><a href=\"item?id=22771193\">52 minutes ago</a></span> <span id=\"unv_22771193\"></span> | <a href=\"hide?id=22771193&amp;goto=news\">hide</a> | <a href=\"item?id=22771193\">17&nbsp;comments</a>              </td></tr>\n",
      "      <tr class=\"spacer\" style=\"height:5px\"></tr>\n",
      "                <tr class='athing' id='22769263'>\n",
      "      <td align=\"right\" valign=\"top\" class=\"title\"><span class=\"rank\">6.</span></td>      <td valign=\"top\" class=\"votelinks\"><center><a id='up_22769263' href='vote?id=22769263&amp;how=up&amp;goto=news'><div class='votearrow' title='upvote'></div></a></center></td><td class=\"title\"><a href=\"http://schools.nyc.gov/freemeals\" class=\"storylink\">Three free meals available daily for any New Yorker</a><span class=\"sitebit comhead\"> (<a href=\"from?site=nyc.gov\"><span class=\"sitestr\">nyc.gov</span></a>)</span></td></tr><tr><td colspan=\"2\"></td><td class=\"subtext\">\n",
      "        <span class=\"score\" id=\"score_22769263\">499 points</span> by <a href=\"user?id=KoftaBob\" class=\"hnuser\">KoftaBob</a> <span class=\"age\"><a href=\"item?id=22769263\">3 hours ago</a></span> <span id=\"unv_22769263\"></span> | <a href=\"hide?id=22769263&amp;goto=news\">hide</a> | <a href=\"item?id=22769263\">290&nbsp;comments</a>              </td></tr>\n",
      "      <tr class=\"spacer\" style=\"height:5px\"></tr>\n",
      "                <tr class='athing' id='22771375'>\n",
      "      <td align=\"right\" valign=\"top\" class=\"title\"><span class=\"rank\">7.</span></td>      <td valign=\"top\" class=\"votelinks\"><center><a id='up_22771375' href='vote?id=22771375&amp;how=up&amp;goto=news'><div class='votearrow' title='upvote'></div></a></center></td><td class=\"title\"><a href=\"https://github.com/nvpro-samples/vk_raytracing_tutorial_KHR\" class=\"storylink\">Nvidia Vulkan Ray Tracing Tutorials</a><span class=\"sitebit comhead\"> (<a href=\"from?site=github.com\"><span class=\"sitestr\">github.com</span></a>)</span></td></tr><tr><td colspan=\"2\"></td><td class=\"subtext\">\n",
      "        <span class=\"score\" id=\"score_22771375\">13 points</span> by <a href=\"user?id=jrepinc\" class=\"hnuser\">jrepinc</a> <span class=\"age\"><a href=\"item?id=22771375\">40 minutes ago</a></span> <span id=\"unv_22771375\"></span> | <a href=\"hide?id=22771375&amp;goto=news\">hide</a> | <a href=\"item?id=22771375\">discuss</a>              </td></tr>\n",
      "      <tr class=\"spacer\" style=\"height:5px\"></tr>\n",
      "                <tr class='athing' id='22769346'>\n",
      "      <td align=\"right\" valign=\"top\" class=\"title\"><span class=\"rank\">8.</span></td>      <td valign=\"top\" class=\"votelinks\"><center><a id='up_22769346' href='vote?id=22769346&amp;how=up&amp;goto=news'><div class='votearrow' title='upvote'></div></a></center></td><td class=\"title\"><a href=\"https://github.com/cxxxr/valtan\" class=\"storylink\">Common Lisp to JavaScript Compiler</a><span class=\"sitebit comhead\"> (<a href=\"from?site=github.com\"><span class=\"sitestr\">github.com</span></a>)</span></td></tr><tr><td colspan=\"2\"></td><td class=\"subtext\">\n",
      "        <span class=\"score\" id=\"score_22769346\">57 points</span> by <a href=\"user?id=simonpure\" class=\"hnuser\">simonpure</a> <span class=\"age\"><a href=\"item?id=22769346\">2 hours ago</a></span> <span id=\"unv_22769346\"></span> | <a href=\"hide?id=22769346&amp;goto=news\">hide</a> | <a href=\"item?id=22769346\">23&nbsp;comments</a>              </td></tr>\n",
      "      <tr class=\"spacer\" style=\"height:5px\"></tr>\n",
      "                <tr class='athing' id='22770643'>\n",
      "      <td align=\"right\" valign=\"top\" class=\"title\"><span class=\"rank\">9.</span></td>      <td valign=\"top\" class=\"votelinks\"><center><a id='up_22770643' href='vote?id=22770643&amp;how=up&amp;goto=news'><div class='votearrow' title='upvote'></div></a></center></td><td class=\"title\"><a href=\"item?id=22770643\" class=\"storylink\">Ask HN: Who has been laid off?</a></td></tr><tr><td colspan=\"2\"></td><td class=\"subtext\">\n",
      "        <span class=\"score\" id=\"score_22770643\">131 points</span> by <a href=\"user?id=etxm\" class=\"hnuser\">etxm</a> <span class=\"age\"><a href=\"item?id=22770643\">1 hour ago</a></span> <span id=\"unv_22770643\"></span> | <a href=\"hide?id=22770643&amp;goto=news\">hide</a> | <a href=\"item?id=22770643\">35&nbsp;comments</a>              </td></tr>\n",
      "      <tr class=\"spacer\" style=\"height:5px\"></tr>\n",
      "                <tr class='athing' id='22769789'>\n",
      "      <td align=\"right\" valign=\"top\" class=\"title\"><span class=\"rank\">10.</span></td>      <td valign=\"top\" class=\"votelinks\"><center><a id='up_22769789' href='vote?id=22769789&amp;how=up&amp;goto=news'><div class='votearrow' title='upvote'></div></a></center></td><td class=\"title\"><a href=\"item?id=22769789\" class=\"storylink\">I’m Peter Roberts, immigration attorney who does work for YC and startups. AMA</a></td></tr><tr><td colspan=\"2\"></td><td class=\"subtext\">\n",
      "        <span class=\"score\" id=\"score_22769789\">63 points</span> by <a href=\"user?id=proberts\" class=\"hnuser\">proberts</a> <span class=\"age\"><a href=\"item?id=22769789\">2 hours ago</a></span> <span id=\"unv_22769789\"></span> | <a href=\"hide?id=22769789&amp;goto=news\">hide</a> | <a href=\"item?id=22769789\">136&nbsp;comments</a>              </td></tr>\n",
      "      <tr class=\"spacer\" style=\"height:5px\"></tr>\n",
      "                <tr class='athing' id='22771331'>\n",
      "      <td align=\"right\" valign=\"top\" class=\"title\"><span class=\"rank\">11.</span></td>      <td></td><td class=\"title\"><a href=\"https://jobs.lever.co/pachyderm/\" class=\"storylink\" rel=\"nofollow\">Pachyderm Is Hiring Senior React, K8s DevOps, and Go Engineers</a><span class=\"sitebit comhead\"> (<a href=\"from?site=lever.co\"><span class=\"sitestr\">lever.co</span></a>)</span></td></tr><tr><td colspan=\"2\"></td><td class=\"subtext\">\n",
      "        <span class=\"age\"><a href=\"item?id=22771331\">44 minutes ago</a></span> | <a href=\"hide?id=22771331&amp;goto=news\">hide</a>      </td></tr>\n",
      "      <tr class=\"spacer\" style=\"height:5px\"></tr>\n",
      "                <tr class='athing' id='22770905'>\n",
      "      <td align=\"right\" valign=\"top\" class=\"title\"><span class=\"rank\">12.</span></td>      <td valign=\"top\" class=\"votelinks\"><center><a id='up_22770905' href='vote?id=22770905&amp;how=up&amp;goto=news'><div class='votearrow' title='upvote'></div></a></center></td><td class=\"title\"><a href=\"https://forum.khadas.com/t/run-the-unmodified-ios-kernel-image-on-the-khadas-vim3-1/7621/2\" class=\"storylink\">Show HN: Run the unmodified iOS kernel image on the VIM3 development board</a><span class=\"sitebit comhead\"> (<a href=\"from?site=khadas.com\"><span class=\"sitestr\">khadas.com</span></a>)</span></td></tr><tr><td colspan=\"2\"></td><td class=\"subtext\">\n",
      "        <span class=\"score\" id=\"score_22770905\">15 points</span> by <a href=\"user?id=lemin9538\" class=\"hnuser\">lemin9538</a> <span class=\"age\"><a href=\"item?id=22770905\">1 hour ago</a></span> <span id=\"unv_22770905\"></span> | <a href=\"hide?id=22770905&amp;goto=news\">hide</a> | <a href=\"item?id=22770905\">2&nbsp;comments</a>              </td></tr>\n",
      "      <tr class=\"spacer\" style=\"height:5px\"></tr>\n",
      "                <tr class='athing' id='22756964'>\n",
      "      <td align=\"right\" valign=\"top\" class=\"title\"><span class=\"rank\">13.</span></td>      <td valign=\"top\" class=\"votelinks\"><center><a id='up_22756964' href='vote?id=22756964&amp;how=up&amp;goto=news'><div class='votearrow' title='upvote'></div></a></center></td><td class=\"title\"><a href=\"https://steveblank.com/2020/04/01/the-ceo-playbook-for-keeping-your-company-alive/\" class=\"storylink\">How to Keep Your Company Alive – Observe, Orient, Decide and Act</a><span class=\"sitebit comhead\"> (<a href=\"from?site=steveblank.com\"><span class=\"sitestr\">steveblank.com</span></a>)</span></td></tr><tr><td colspan=\"2\"></td><td class=\"subtext\">\n",
      "        <span class=\"score\" id=\"score_22756964\">108 points</span> by <a href=\"user?id=weinzierl\" class=\"hnuser\">weinzierl</a> <span class=\"age\"><a href=\"item?id=22756964\">6 hours ago</a></span> <span id=\"unv_22756964\"></span> | <a href=\"hide?id=22756964&amp;goto=news\">hide</a> | <a href=\"item?id=22756964\">54&nbsp;comments</a>              </td></tr>\n",
      "      <tr class=\"spacer\" style=\"height:5px\"></tr>\n",
      "                <tr class='athing' id='22770103'>\n",
      "      <td align=\"right\" valign=\"top\" class=\"title\"><span class=\"rank\">14.</span></td>      <td valign=\"top\" class=\"votelinks\"><center><a id='up_22770103' href='vote?id=22770103&amp;how=up&amp;goto=news'><div class='votearrow' title='upvote'></div></a></center></td><td class=\"title\"><a href=\"http://www.update.uu.se/~micken/ronetbsd.html\" class=\"storylink\">RISC OS and NetBSD running on the same SoC</a><span class=\"sitebit comhead\"> (<a href=\"from?site=uu.se\"><span class=\"sitestr\">uu.se</span></a>)</span></td></tr><tr><td colspan=\"2\"></td><td class=\"subtext\">\n",
      "        <span class=\"score\" id=\"score_22770103\">19 points</span> by <a href=\"user?id=fanf2\" class=\"hnuser\">fanf2</a> <span class=\"age\"><a href=\"item?id=22770103\">2 hours ago</a></span> <span id=\"unv_22770103\"></span> | <a href=\"hide?id=22770103&amp;goto=news\">hide</a> | <a href=\"item?id=22770103\">discuss</a>              </td></tr>\n",
      "      <tr class=\"spacer\" style=\"height:5px\"></tr>\n",
      "                <tr class='athing' id='22770912'>\n",
      "      <td align=\"right\" valign=\"top\" class=\"title\"><span class=\"rank\">15.</span></td>      <td valign=\"top\" class=\"votelinks\"><center><a id='up_22770912' href='vote?id=22770912&amp;how=up&amp;goto=news'><div class='votearrow' title='upvote'></div></a></center></td><td class=\"title\"><a href=\"https://improbable.io/blog/kcp-a-new-low-latency-secure-network-stack\" class=\"storylink\">Show HN: KCP: a new low-latency, secure network stack</a><span class=\"sitebit comhead\"> (<a href=\"from?site=improbable.io\"><span class=\"sitestr\">improbable.io</span></a>)</span></td></tr><tr><td colspan=\"2\"></td><td class=\"subtext\">\n",
      "        <span class=\"score\" id=\"score_22770912\">9 points</span> by <a href=\"user?id=skywind3000\" class=\"hnuser\">skywind3000</a> <span class=\"age\"><a href=\"item?id=22770912\">1 hour ago</a></span> <span id=\"unv_22770912\"></span> | <a href=\"hide?id=22770912&amp;goto=news\">hide</a> | <a href=\"item?id=22770912\">discuss</a>              </td></tr>\n",
      "      <tr class=\"spacer\" style=\"height:5px\"></tr>\n",
      "                <tr class='athing' id='22771834'>\n",
      "      <td align=\"right\" valign=\"top\" class=\"title\"><span class=\"rank\">16.</span></td>      <td valign=\"top\" class=\"votelinks\"><center><a id='up_22771834' href='vote?id=22771834&amp;how=up&amp;goto=news'><div class='votearrow' title='upvote'></div></a></center></td><td class=\"title\"><a href=\"https://www.blog.google/technology/health/covid-19-community-mobility-reports\" class=\"storylink\" rel=\"nofollow\">Google Sharing Location Information with Governments</a><span class=\"sitebit comhead\"> (<a href=\"from?site=blog.google\"><span class=\"sitestr\">blog.google</span></a>)</span></td></tr><tr><td colspan=\"2\"></td><td class=\"subtext\">\n",
      "        <span class=\"score\" id=\"score_22771834\">4 points</span> by <a href=\"user?id=thegeekbin\" class=\"hnuser\">thegeekbin</a> <span class=\"age\"><a href=\"item?id=22771834\">9 minutes ago</a></span> <span id=\"unv_22771834\"></span> | <a href=\"hide?id=22771834&amp;goto=news\">hide</a> | <a href=\"item?id=22771834\">discuss</a>              </td></tr>\n",
      "      <tr class=\"spacer\" style=\"height:5px\"></tr>\n",
      "                <tr class='athing' id='22766138'>\n",
      "      <td align=\"right\" valign=\"top\" class=\"title\"><span class=\"rank\">17.</span></td>      <td valign=\"top\" class=\"votelinks\"><center><a id='up_22766138' href='vote?id=22766138&amp;how=up&amp;goto=news'><div class='votearrow' title='upvote'></div></a></center></td><td class=\"title\"><a href=\"https://www.ryanpickren.com/webcam-hacking-overview\" class=\"storylink\">Unauthorized access to cameras in Safari on macOS and iOS</a><span class=\"sitebit comhead\"> (<a href=\"from?site=ryanpickren.com\"><span class=\"sitestr\">ryanpickren.com</span></a>)</span></td></tr><tr><td colspan=\"2\"></td><td class=\"subtext\">\n",
      "        <span class=\"score\" id=\"score_22766138\">346 points</span> by <a href=\"user?id=notRobot\" class=\"hnuser\">notRobot</a> <span class=\"age\"><a href=\"item?id=22766138\">13 hours ago</a></span> <span id=\"unv_22766138\"></span> | <a href=\"hide?id=22766138&amp;goto=news\">hide</a> | <a href=\"item?id=22766138\">81&nbsp;comments</a>              </td></tr>\n",
      "      <tr class=\"spacer\" style=\"height:5px\"></tr>\n",
      "                <tr class='athing' id='22768985'>\n",
      "      <td align=\"right\" valign=\"top\" class=\"title\"><span class=\"rank\">18.</span></td>      <td valign=\"top\" class=\"votelinks\"><center><a id='up_22768985' href='vote?id=22768985&amp;how=up&amp;goto=news'><div class='votearrow' title='upvote'></div></a></center></td><td class=\"title\"><a href=\"https://jcs.org/2019/05/03/mailstation\" class=\"storylink\">Cidco MailStation as a Z80 Development Platform</a><span class=\"sitebit comhead\"> (<a href=\"from?site=jcs.org\"><span class=\"sitestr\">jcs.org</span></a>)</span></td></tr><tr><td colspan=\"2\"></td><td class=\"subtext\">\n",
      "        <span class=\"score\" id=\"score_22768985\">35 points</span> by <a href=\"user?id=bluedino\" class=\"hnuser\">bluedino</a> <span class=\"age\"><a href=\"item?id=22768985\">4 hours ago</a></span> <span id=\"unv_22768985\"></span> | <a href=\"hide?id=22768985&amp;goto=news\">hide</a> | <a href=\"item?id=22768985\">1&nbsp;comment</a>              </td></tr>\n",
      "      <tr class=\"spacer\" style=\"height:5px\"></tr>\n",
      "                <tr class='athing' id='22769999'>\n",
      "      <td align=\"right\" valign=\"top\" class=\"title\"><span class=\"rank\">19.</span></td>      <td valign=\"top\" class=\"votelinks\"><center><a id='up_22769999' href='vote?id=22769999&amp;how=up&amp;goto=news'><div class='votearrow' title='upvote'></div></a></center></td><td class=\"title\"><a href=\"item?id=22769999\" class=\"storylink\">Launch HN: Belvo (YC W20) – Financial Data API Platform for Latin America</a></td></tr><tr><td colspan=\"2\"></td><td class=\"subtext\">\n",
      "        <span class=\"score\" id=\"score_22769999\">27 points</span> by <a href=\"user?id=viguerapablo\" class=\"hnuser\">viguerapablo</a> <span class=\"age\"><a href=\"item?id=22769999\">2 hours ago</a></span> <span id=\"unv_22769999\"></span> | <a href=\"hide?id=22769999&amp;goto=news\">hide</a> | <a href=\"item?id=22769999\">17&nbsp;comments</a>              </td></tr>\n",
      "      <tr class=\"spacer\" style=\"height:5px\"></tr>\n",
      "                <tr class='athing' id='22768797'>\n",
      "      <td align=\"right\" valign=\"top\" class=\"title\"><span class=\"rank\">20.</span></td>      <td valign=\"top\" class=\"votelinks\"><center><a id='up_22768797' href='vote?id=22768797&amp;how=up&amp;goto=news'><div class='votearrow' title='upvote'></div></a></center></td><td class=\"title\"><a href=\"https://www.ianvisits.co.uk/blog/2018/08/05/unbuilt-london-the-railway-arcade-above-the-streets/\" class=\"storylink\">Unbuilt London: The “railway arcade” above the streets</a><span class=\"sitebit comhead\"> (<a href=\"from?site=ianvisits.co.uk\"><span class=\"sitestr\">ianvisits.co.uk</span></a>)</span></td></tr><tr><td colspan=\"2\"></td><td class=\"subtext\">\n",
      "        <span class=\"score\" id=\"score_22768797\">40 points</span> by <a href=\"user?id=gullyfur\" class=\"hnuser\">gullyfur</a> <span class=\"age\"><a href=\"item?id=22768797\">4 hours ago</a></span> <span id=\"unv_22768797\"></span> | <a href=\"hide?id=22768797&amp;goto=news\">hide</a> | <a href=\"item?id=22768797\">14&nbsp;comments</a>              </td></tr>\n",
      "      <tr class=\"spacer\" style=\"height:5px\"></tr>\n",
      "                <tr class='athing' id='22757645'>\n",
      "      <td align=\"right\" valign=\"top\" class=\"title\"><span class=\"rank\">21.</span></td>      <td valign=\"top\" class=\"votelinks\"><center><a id='up_22757645' href='vote?id=22757645&amp;how=up&amp;goto=news'><div class='votearrow' title='upvote'></div></a></center></td><td class=\"title\"><a href=\"https://mbreen.com/m4.html\" class=\"storylink\">Notes on the M4 Macro Language</a><span class=\"sitebit comhead\"> (<a href=\"from?site=mbreen.com\"><span class=\"sitestr\">mbreen.com</span></a>)</span></td></tr><tr><td colspan=\"2\"></td><td class=\"subtext\">\n",
      "        <span class=\"score\" id=\"score_22757645\">47 points</span> by <a href=\"user?id=luu\" class=\"hnuser\">luu</a> <span class=\"age\"><a href=\"item?id=22757645\">4 hours ago</a></span> <span id=\"unv_22757645\"></span> | <a href=\"hide?id=22757645&amp;goto=news\">hide</a> | <a href=\"item?id=22757645\">25&nbsp;comments</a>              </td></tr>\n",
      "      <tr class=\"spacer\" style=\"height:5px\"></tr>\n",
      "                <tr class='athing' id='22770512'>\n",
      "      <td align=\"right\" valign=\"top\" class=\"title\"><span class=\"rank\">22.</span></td>      <td valign=\"top\" class=\"votelinks\"><center><a id='up_22770512' href='vote?id=22770512&amp;how=up&amp;goto=news'><div class='votearrow' title='upvote'></div></a></center></td><td class=\"title\"><a href=\"https://github.com/jackjoe/mailgun_logger\" class=\"storylink\" rel=\"nofollow\">Show HN: MailgunLogger</a><span class=\"sitebit comhead\"> (<a href=\"from?site=github.com\"><span class=\"sitestr\">github.com</span></a>)</span></td></tr><tr><td colspan=\"2\"></td><td class=\"subtext\">\n",
      "        <span class=\"score\" id=\"score_22770512\">8 points</span> by <a href=\"user?id=pierot\" class=\"hnuser\">pierot</a> <span class=\"age\"><a href=\"item?id=22770512\">1 hour ago</a></span> <span id=\"unv_22770512\"></span> | <a href=\"hide?id=22770512&amp;goto=news\">hide</a> | <a href=\"item?id=22770512\">1&nbsp;comment</a>              </td></tr>\n",
      "      <tr class=\"spacer\" style=\"height:5px\"></tr>\n",
      "                <tr class='athing' id='22757857'>\n",
      "      <td align=\"right\" valign=\"top\" class=\"title\"><span class=\"rank\">23.</span></td>      <td valign=\"top\" class=\"votelinks\"><center><a id='up_22757857' href='vote?id=22757857&amp;how=up&amp;goto=news'><div class='votearrow' title='upvote'></div></a></center></td><td class=\"title\"><a href=\"https://phys.org/news/2020-04-physical-spurs-gene-reveals.html\" class=\"storylink\">Physical force alone spurs gene expression, study reveals</a><span class=\"sitebit comhead\"> (<a href=\"from?site=phys.org\"><span class=\"sitestr\">phys.org</span></a>)</span></td></tr><tr><td colspan=\"2\"></td><td class=\"subtext\">\n",
      "        <span class=\"score\" id=\"score_22757857\">82 points</span> by <a href=\"user?id=pseudolus\" class=\"hnuser\">pseudolus</a> <span class=\"age\"><a href=\"item?id=22757857\">8 hours ago</a></span> <span id=\"unv_22757857\"></span> | <a href=\"hide?id=22757857&amp;goto=news\">hide</a> | <a href=\"item?id=22757857\">11&nbsp;comments</a>              </td></tr>\n",
      "      <tr class=\"spacer\" style=\"height:5px\"></tr>\n",
      "                <tr class='athing' id='22757233'>\n",
      "      <td align=\"right\" valign=\"top\" class=\"title\"><span class=\"rank\">24.</span></td>      <td valign=\"top\" class=\"votelinks\"><center><a id='up_22757233' href='vote?id=22757233&amp;how=up&amp;goto=news'><div class='votearrow' title='upvote'></div></a></center></td><td class=\"title\"><a href=\"https://lwn.net/SubscriberLink/815908/8fe01199eee0f77f/\" class=\"storylink\">Avoiding Retpolines with Static Calls</a><span class=\"sitebit comhead\"> (<a href=\"from?site=lwn.net\"><span class=\"sitestr\">lwn.net</span></a>)</span></td></tr><tr><td colspan=\"2\"></td><td class=\"subtext\">\n",
      "        <span class=\"score\" id=\"score_22757233\">50 points</span> by <a href=\"user?id=rwmj\" class=\"hnuser\">rwmj</a> <span class=\"age\"><a href=\"item?id=22757233\">7 hours ago</a></span> <span id=\"unv_22757233\"></span> | <a href=\"hide?id=22757233&amp;goto=news\">hide</a> | <a href=\"item?id=22757233\">6&nbsp;comments</a>              </td></tr>\n",
      "      <tr class=\"spacer\" style=\"height:5px\"></tr>\n",
      "                <tr class='athing' id='22758182'>\n",
      "      <td align=\"right\" valign=\"top\" class=\"title\"><span class=\"rank\">25.</span></td>      <td valign=\"top\" class=\"votelinks\"><center><a id='up_22758182' href='vote?id=22758182&amp;how=up&amp;goto=news'><div class='votearrow' title='upvote'></div></a></center></td><td class=\"title\"><a href=\"https://PythonForNonProgrammers.com/\" class=\"storylink\">Python for Non-Programmers</a><span class=\"sitebit comhead\"> (<a href=\"from?site=pythonfornonprogrammers.com\"><span class=\"sitestr\">pythonfornonprogrammers.com</span></a>)</span></td></tr><tr><td colspan=\"2\"></td><td class=\"subtext\">\n",
      "        <span class=\"score\" id=\"score_22758182\">23 points</span> by <a href=\"user?id=reuven\" class=\"hnuser\">reuven</a> <span class=\"age\"><a href=\"item?id=22758182\">5 hours ago</a></span> <span id=\"unv_22758182\"></span> | <a href=\"hide?id=22758182&amp;goto=news\">hide</a> | <a href=\"item?id=22758182\">14&nbsp;comments</a>              </td></tr>\n",
      "      <tr class=\"spacer\" style=\"height:5px\"></tr>\n",
      "                <tr class='athing' id='22766665'>\n",
      "      <td align=\"right\" valign=\"top\" class=\"title\"><span class=\"rank\">26.</span></td>      <td valign=\"top\" class=\"votelinks\"><center><a id='up_22766665' href='vote?id=22766665&amp;how=up&amp;goto=news'><div class='votearrow' title='upvote'></div></a></center></td><td class=\"title\"><a href=\"https://github.com/pavel-krivanek/articles/tree/master/SelfObjectModel\" class=\"storylink\">The Object Model of Self</a><span class=\"sitebit comhead\"> (<a href=\"from?site=github.com\"><span class=\"sitestr\">github.com</span></a>)</span></td></tr><tr><td colspan=\"2\"></td><td class=\"subtext\">\n",
      "        <span class=\"score\" id=\"score_22766665\">116 points</span> by <a href=\"user?id=xkriva11\" class=\"hnuser\">xkriva11</a> <span class=\"age\"><a href=\"item?id=22766665\">10 hours ago</a></span> <span id=\"unv_22766665\"></span> | <a href=\"hide?id=22766665&amp;goto=news\">hide</a> | <a href=\"item?id=22766665\">23&nbsp;comments</a>              </td></tr>\n",
      "      <tr class=\"spacer\" style=\"height:5px\"></tr>\n",
      "                <tr class='athing' id='22766192'>\n",
      "      <td align=\"right\" valign=\"top\" class=\"title\"><span class=\"rank\">27.</span></td>      <td valign=\"top\" class=\"votelinks\"><center><a id='up_22766192' href='vote?id=22766192&amp;how=up&amp;goto=news'><div class='votearrow' title='upvote'></div></a></center></td><td class=\"title\"><a href=\"https://netflixtechblog.com/bringing-4k-and-hdr-to-anime-at-netflix-with-sol-levante-fa68105067cd\" class=\"storylink\">Bringing 4K and HDR to Anime at Netflix with Sol Levante</a><span class=\"sitebit comhead\"> (<a href=\"from?site=netflixtechblog.com\"><span class=\"sitestr\">netflixtechblog.com</span></a>)</span></td></tr><tr><td colspan=\"2\"></td><td class=\"subtext\">\n",
      "        <span class=\"score\" id=\"score_22766192\">158 points</span> by <a href=\"user?id=joubert\" class=\"hnuser\">joubert</a> <span class=\"age\"><a href=\"item?id=22766192\">13 hours ago</a></span> <span id=\"unv_22766192\"></span> | <a href=\"hide?id=22766192&amp;goto=news\">hide</a> | <a href=\"item?id=22766192\">101&nbsp;comments</a>              </td></tr>\n",
      "      <tr class=\"spacer\" style=\"height:5px\"></tr>\n",
      "                <tr class='athing' id='22764910'>\n",
      "      <td align=\"right\" valign=\"top\" class=\"title\"><span class=\"rank\">28.</span></td>      <td valign=\"top\" class=\"votelinks\"><center><a id='up_22764910' href='vote?id=22764910&amp;how=up&amp;goto=news'><div class='votearrow' title='upvote'></div></a></center></td><td class=\"title\"><a href=\"https://scopeblog.stanford.edu/2020/03/30/lyme-disease-bacteria-eradicated-by-new-drug-in-early-tests/\" class=\"storylink\">Lyme disease bacteria eradicated by new drug in early tests</a><span class=\"sitebit comhead\"> (<a href=\"from?site=stanford.edu\"><span class=\"sitestr\">stanford.edu</span></a>)</span></td></tr><tr><td colspan=\"2\"></td><td class=\"subtext\">\n",
      "        <span class=\"score\" id=\"score_22764910\">748 points</span> by <a href=\"user?id=dempedempe\" class=\"hnuser\">dempedempe</a> <span class=\"age\"><a href=\"item?id=22764910\">18 hours ago</a></span> <span id=\"unv_22764910\"></span> | <a href=\"hide?id=22764910&amp;goto=news\">hide</a> | <a href=\"item?id=22764910\">149&nbsp;comments</a>              </td></tr>\n",
      "      <tr class=\"spacer\" style=\"height:5px\"></tr>\n",
      "                <tr class='athing' id='22769301'>\n",
      "      <td align=\"right\" valign=\"top\" class=\"title\"><span class=\"rank\">29.</span></td>      <td valign=\"top\" class=\"votelinks\"><center><a id='up_22769301' href='vote?id=22769301&amp;how=up&amp;goto=news'><div class='votearrow' title='upvote'></div></a></center></td><td class=\"title\"><a href=\"https://twitter.com/leahfinnegan/status/1246070831807188993\" class=\"storylink\">“farewell outline. we have all been laid off.”</a><span class=\"sitebit comhead\"> (<a href=\"from?site=twitter.com\"><span class=\"sitestr\">twitter.com</span></a>)</span></td></tr><tr><td colspan=\"2\"></td><td class=\"subtext\">\n",
      "        <span class=\"score\" id=\"score_22769301\">80 points</span> by <a href=\"user?id=petercooper\" class=\"hnuser\">petercooper</a> <span class=\"age\"><a href=\"item?id=22769301\">3 hours ago</a></span> <span id=\"unv_22769301\"></span> | <a href=\"hide?id=22769301&amp;goto=news\">hide</a> | <a href=\"item?id=22769301\">23&nbsp;comments</a>              </td></tr>\n",
      "      <tr class=\"spacer\" style=\"height:5px\"></tr>\n",
      "                <tr class='athing' id='22766691'>\n",
      "      <td align=\"right\" valign=\"top\" class=\"title\"><span class=\"rank\">30.</span></td>      <td valign=\"top\" class=\"votelinks\"><center><a id='up_22766691' href='vote?id=22766691&amp;how=up&amp;goto=news'><div class='votearrow' title='upvote'></div></a></center></td><td class=\"title\"><a href=\"https://medium.com/cantors-paradise/the-anarchist-abstractionist-who-was-alexander-grothendieck-cc396083d94e\" class=\"storylink\">The Anarchist Abstractionist – Who Was Alexander Grothendieck?</a><span class=\"sitebit comhead\"> (<a href=\"from?site=medium.com\"><span class=\"sitestr\">medium.com</span></a>)</span></td></tr><tr><td colspan=\"2\"></td><td class=\"subtext\">\n",
      "        <span class=\"score\" id=\"score_22766691\">120 points</span> by <a href=\"user?id=jorgenveisdal\" class=\"hnuser\">jorgenveisdal</a> <span class=\"age\"><a href=\"item?id=22766691\">11 hours ago</a></span> <span id=\"unv_22766691\"></span> | <a href=\"hide?id=22766691&amp;goto=news\">hide</a> | <a href=\"item?id=22766691\">41&nbsp;comments</a>              </td></tr>\n",
      "      <tr class=\"spacer\" style=\"height:5px\"></tr>\n",
      "            <tr class=\"morespace\" style=\"height:10px\"></tr><tr><td colspan=\"2\"></td><td class=\"title\"><a href=\"news?p=2\" class=\"morelink\" rel=\"next\">More</a></td></tr>\n",
      "  </table>\n",
      "</td></tr>\n",
      "<tr><td><img src=\"s.gif\" height=\"10\" width=\"0\"><table width=\"100%\" cellspacing=\"0\" cellpadding=\"1\"><tr><td bgcolor=\"#ff6600\"></td></tr></table><br><center><span class=\"yclinks\"><a href=\"newsguidelines.html\">Guidelines</a>\n",
      "        | <a href=\"newsfaq.html\">FAQ</a>\n",
      "        | <a href=\"mailto:hn@ycombinator.com\">Support</a>\n",
      "        | <a href=\"https://github.com/HackerNews/API\">API</a>\n",
      "        | <a href=\"security.html\">Security</a>\n",
      "        | <a href=\"lists\">Lists</a>\n",
      "        | <a href=\"bookmarklet.html\" rel=\"nofollow\">Bookmarklet</a>\n",
      "        | <a href=\"http://www.ycombinator.com/legal/\">Legal</a>\n",
      "        | <a href=\"http://www.ycombinator.com/apply/\">Apply to YC</a>\n",
      "        | <a href=\"mailto:hn@ycombinator.com\">Contact</a></span><br><br><form method=\"get\" action=\"//hn.algolia.com/\">Search:\n",
      "          <input type=\"text\" name=\"q\" value=\"\" size=\"17\" autocorrect=\"off\" spellcheck=\"false\" autocapitalize=\"off\" autocomplete=\"false\"></form>\n",
      "            </center></td></tr>\n",
      "      </table></center></body><script type='text/javascript' src='hn.js?yKbFoAYS7v71r3MOfeiU'></script></html>\n",
      "\n"
     ]
    }
   ],
   "source": [
    "import requests\n",
    "\n",
    "# Fetch a web page\n",
    "r = requests.get(\"https://news.ycombinator.com\")\n",
    "print(r.text)"
   ]
  },
  {
   "cell_type": "code",
   "execution_count": 26,
   "metadata": {},
   "outputs": [
    {
     "name": "stdout",
     "output_type": "stream",
     "text": [
      "\n",
      "        \n",
      "          \n",
      "        Hacker News\n",
      "        \n",
      "                  Hacker News\n",
      "              new | past | comments | ask | show | jobs | submit            \n",
      "                              login\n",
      "                          \n",
      "              \n",
      "\n",
      "              \n",
      "      1.      Nim v1.2 Released (nim-lang.org)\n",
      "        102 points by narimiran 1 hour ago  | hide | 21&nbsp;comments              \n",
      "      \n",
      "                \n",
      "      2.      Apple's MacOS Server has a 1.5/5 rating on the Mac App Store (apps.apple.com)\n",
      "        181 points by ethanpil 2 hours ago  | hide | 66&nbsp;comments              \n",
      "      \n",
      "                \n",
      "      3.      Hardware Microphone Disconnect in Mac and iPad (support.apple.com)\n",
      "        490 points by gtufano 7 hours ago  | hide | 196&nbsp;comments              \n",
      "      \n",
      "                \n",
      "      4.      Semi-Supervised Learning: 85% accuracy on CIFAR-10 with only 10 labeled images (amitness.com)\n",
      "        114 points by amitness 3 hours ago  | hide | 34&nbsp;comments              \n",
      "      \n",
      "                \n",
      "      5.      Does Zoom use end-to-end encryption? (cryptographyengineering.com)\n",
      "        49 points by feross 52 minutes ago  | hide | 17&nbsp;comments              \n",
      "      \n",
      "                \n",
      "      6.      Three free meals available daily for any New Yorker (nyc.gov)\n",
      "        499 points by KoftaBob 3 hours ago  | hide | 290&nbsp;comments              \n",
      "      \n",
      "                \n",
      "      7.      Nvidia Vulkan Ray Tracing Tutorials (github.com)\n",
      "        13 points by jrepinc 40 minutes ago  | hide | discuss              \n",
      "      \n",
      "                \n",
      "      8.      Common Lisp to JavaScript Compiler (github.com)\n",
      "        57 points by simonpure 2 hours ago  | hide | 23&nbsp;comments              \n",
      "      \n",
      "                \n",
      "      9.      Ask HN: Who has been laid off?\n",
      "        131 points by etxm 1 hour ago  | hide | 35&nbsp;comments              \n",
      "      \n",
      "                \n",
      "      10.      I’m Peter Roberts, immigration attorney who does work for YC and startups. AMA\n",
      "        63 points by proberts 2 hours ago  | hide | 136&nbsp;comments              \n",
      "      \n",
      "                \n",
      "      11.      Pachyderm Is Hiring Senior React, K8s DevOps, and Go Engineers (lever.co)\n",
      "        44 minutes ago | hide      \n",
      "      \n",
      "                \n",
      "      12.      Show HN: Run the unmodified iOS kernel image on the VIM3 development board (khadas.com)\n",
      "        15 points by lemin9538 1 hour ago  | hide | 2&nbsp;comments              \n",
      "      \n",
      "                \n",
      "      13.      How to Keep Your Company Alive – Observe, Orient, Decide and Act (steveblank.com)\n",
      "        108 points by weinzierl 6 hours ago  | hide | 54&nbsp;comments              \n",
      "      \n",
      "                \n",
      "      14.      RISC OS and NetBSD running on the same SoC (uu.se)\n",
      "        19 points by fanf2 2 hours ago  | hide | discuss              \n",
      "      \n",
      "                \n",
      "      15.      Show HN: KCP: a new low-latency, secure network stack (improbable.io)\n",
      "        9 points by skywind3000 1 hour ago  | hide | discuss              \n",
      "      \n",
      "                \n",
      "      16.      Google Sharing Location Information with Governments (blog.google)\n",
      "        4 points by thegeekbin 9 minutes ago  | hide | discuss              \n",
      "      \n",
      "                \n",
      "      17.      Unauthorized access to cameras in Safari on macOS and iOS (ryanpickren.com)\n",
      "        346 points by notRobot 13 hours ago  | hide | 81&nbsp;comments              \n",
      "      \n",
      "                \n",
      "      18.      Cidco MailStation as a Z80 Development Platform (jcs.org)\n",
      "        35 points by bluedino 4 hours ago  | hide | 1&nbsp;comment              \n",
      "      \n",
      "                \n",
      "      19.      Launch HN: Belvo (YC W20) – Financial Data API Platform for Latin America\n",
      "        27 points by viguerapablo 2 hours ago  | hide | 17&nbsp;comments              \n",
      "      \n",
      "                \n",
      "      20.      Unbuilt London: The “railway arcade” above the streets (ianvisits.co.uk)\n",
      "        40 points by gullyfur 4 hours ago  | hide | 14&nbsp;comments              \n",
      "      \n",
      "                \n",
      "      21.      Notes on the M4 Macro Language (mbreen.com)\n",
      "        47 points by luu 4 hours ago  | hide | 25&nbsp;comments              \n",
      "      \n",
      "                \n",
      "      22.      Show HN: MailgunLogger (github.com)\n",
      "        8 points by pierot 1 hour ago  | hide | 1&nbsp;comment              \n",
      "      \n",
      "                \n",
      "      23.      Physical force alone spurs gene expression, study reveals (phys.org)\n",
      "        82 points by pseudolus 8 hours ago  | hide | 11&nbsp;comments              \n",
      "      \n",
      "                \n",
      "      24.      Avoiding Retpolines with Static Calls (lwn.net)\n",
      "        50 points by rwmj 7 hours ago  | hide | 6&nbsp;comments              \n",
      "      \n",
      "                \n",
      "      25.      Python for Non-Programmers (pythonfornonprogrammers.com)\n",
      "        23 points by reuven 5 hours ago  | hide | 14&nbsp;comments              \n",
      "      \n",
      "                \n",
      "      26.      The Object Model of Self (github.com)\n",
      "        116 points by xkriva11 10 hours ago  | hide | 23&nbsp;comments              \n",
      "      \n",
      "                \n",
      "      27.      Bringing 4K and HDR to Anime at Netflix with Sol Levante (netflixtechblog.com)\n",
      "        158 points by joubert 13 hours ago  | hide | 101&nbsp;comments              \n",
      "      \n",
      "                \n",
      "      28.      Lyme disease bacteria eradicated by new drug in early tests (stanford.edu)\n",
      "        748 points by dempedempe 18 hours ago  | hide | 149&nbsp;comments              \n",
      "      \n",
      "                \n",
      "      29.      “farewell outline. we have all been laid off.” (twitter.com)\n",
      "        80 points by petercooper 3 hours ago  | hide | 23&nbsp;comments              \n",
      "      \n",
      "                \n",
      "      30.      The Anarchist Abstractionist – Who Was Alexander Grothendieck? (medium.com)\n",
      "        120 points by jorgenveisdal 11 hours ago  | hide | 41&nbsp;comments              \n",
      "      \n",
      "            More\n",
      "  \n",
      "\n",
      "Guidelines\n",
      "        | FAQ\n",
      "        | Support\n",
      "        | API\n",
      "        | Security\n",
      "        | Lists\n",
      "        | Bookmarklet\n",
      "        | Legal\n",
      "        | Apply to YC\n",
      "        | ContactSearch:\n",
      "          \n",
      "            \n",
      "      \n",
      "\n"
     ]
    }
   ],
   "source": [
    "import re\n",
    "\n",
    "# Remove HTML tags using RegEx\n",
    "pattern = re.compile(r'<.*?>')  # tags look like <...>\n",
    "print(pattern.sub('', r.text))  # replace them with blank"
   ]
  },
  {
   "cell_type": "code",
   "execution_count": 27,
   "metadata": {},
   "outputs": [
    {
     "name": "stdout",
     "output_type": "stream",
     "text": [
      "\n",
      "        \n",
      "          \n",
      "        Hacker News\n",
      "        \n",
      "                  Hacker News\n",
      "              new | past | comments | ask | show | jobs | submit            \n",
      "                              login\n",
      "                          \n",
      "              \n",
      "\n",
      "              \n",
      "      1.      Nim v1.2 Released (nim-lang.org)\n",
      "        102 points by narimiran 1 hour ago  | hide | 21 comments              \n",
      "      \n",
      "                \n",
      "      2.      Apple's MacOS Server has a 1.5/5 rating on the Mac App Store (apps.apple.com)\n",
      "        181 points by ethanpil 2 hours ago  | hide | 66 comments              \n",
      "      \n",
      "                \n",
      "      3.      Hardware Microphone Disconnect in Mac and iPad (support.apple.com)\n",
      "        490 points by gtufano 7 hours ago  | hide | 196 comments              \n",
      "      \n",
      "                \n",
      "      4.      Semi-Supervised Learning: 85% accuracy on CIFAR-10 with only 10 labeled images (amitness.com)\n",
      "        114 points by amitness 3 hours ago  | hide | 34 comments              \n",
      "      \n",
      "                \n",
      "      5.      Does Zoom use end-to-end encryption? (cryptographyengineering.com)\n",
      "        49 points by feross 52 minutes ago  | hide | 17 comments              \n",
      "      \n",
      "                \n",
      "      6.      Three free meals available daily for any New Yorker (nyc.gov)\n",
      "        499 points by KoftaBob 3 hours ago  | hide | 290 comments              \n",
      "      \n",
      "                \n",
      "      7.      Nvidia Vulkan Ray Tracing Tutorials (github.com)\n",
      "        13 points by jrepinc 40 minutes ago  | hide | discuss              \n",
      "      \n",
      "                \n",
      "      8.      Common Lisp to JavaScript Compiler (github.com)\n",
      "        57 points by simonpure 2 hours ago  | hide | 23 comments              \n",
      "      \n",
      "                \n",
      "      9.      Ask HN: Who has been laid off?\n",
      "        131 points by etxm 1 hour ago  | hide | 35 comments              \n",
      "      \n",
      "                \n",
      "      10.      I’m Peter Roberts, immigration attorney who does work for YC and startups. AMA\n",
      "        63 points by proberts 2 hours ago  | hide | 136 comments              \n",
      "      \n",
      "                \n",
      "      11.      Pachyderm Is Hiring Senior React, K8s DevOps, and Go Engineers (lever.co)\n",
      "        44 minutes ago | hide      \n",
      "      \n",
      "                \n",
      "      12.      Show HN: Run the unmodified iOS kernel image on the VIM3 development board (khadas.com)\n",
      "        15 points by lemin9538 1 hour ago  | hide | 2 comments              \n",
      "      \n",
      "                \n",
      "      13.      How to Keep Your Company Alive – Observe, Orient, Decide and Act (steveblank.com)\n",
      "        108 points by weinzierl 6 hours ago  | hide | 54 comments              \n",
      "      \n",
      "                \n",
      "      14.      RISC OS and NetBSD running on the same SoC (uu.se)\n",
      "        19 points by fanf2 2 hours ago  | hide | discuss              \n",
      "      \n",
      "                \n",
      "      15.      Show HN: KCP: a new low-latency, secure network stack (improbable.io)\n",
      "        9 points by skywind3000 1 hour ago  | hide | discuss              \n",
      "      \n",
      "                \n",
      "      16.      Google Sharing Location Information with Governments (blog.google)\n",
      "        4 points by thegeekbin 9 minutes ago  | hide | discuss              \n",
      "      \n",
      "                \n",
      "      17.      Unauthorized access to cameras in Safari on macOS and iOS (ryanpickren.com)\n",
      "        346 points by notRobot 13 hours ago  | hide | 81 comments              \n",
      "      \n",
      "                \n",
      "      18.      Cidco MailStation as a Z80 Development Platform (jcs.org)\n",
      "        35 points by bluedino 4 hours ago  | hide | 1 comment              \n",
      "      \n",
      "                \n",
      "      19.      Launch HN: Belvo (YC W20) – Financial Data API Platform for Latin America\n",
      "        27 points by viguerapablo 2 hours ago  | hide | 17 comments              \n",
      "      \n",
      "                \n",
      "      20.      Unbuilt London: The “railway arcade” above the streets (ianvisits.co.uk)\n",
      "        40 points by gullyfur 4 hours ago  | hide | 14 comments              \n",
      "      \n",
      "                \n",
      "      21.      Notes on the M4 Macro Language (mbreen.com)\n",
      "        47 points by luu 4 hours ago  | hide | 25 comments              \n",
      "      \n",
      "                \n",
      "      22.      Show HN: MailgunLogger (github.com)\n",
      "        8 points by pierot 1 hour ago  | hide | 1 comment              \n",
      "      \n",
      "                \n",
      "      23.      Physical force alone spurs gene expression, study reveals (phys.org)\n",
      "        82 points by pseudolus 8 hours ago  | hide | 11 comments              \n",
      "      \n",
      "                \n",
      "      24.      Avoiding Retpolines with Static Calls (lwn.net)\n",
      "        50 points by rwmj 7 hours ago  | hide | 6 comments              \n",
      "      \n",
      "                \n",
      "      25.      Python for Non-Programmers (pythonfornonprogrammers.com)\n",
      "        23 points by reuven 5 hours ago  | hide | 14 comments              \n",
      "      \n",
      "                \n",
      "      26.      The Object Model of Self (github.com)\n",
      "        116 points by xkriva11 10 hours ago  | hide | 23 comments              \n",
      "      \n",
      "                \n",
      "      27.      Bringing 4K and HDR to Anime at Netflix with Sol Levante (netflixtechblog.com)\n",
      "        158 points by joubert 13 hours ago  | hide | 101 comments              \n",
      "      \n",
      "                \n",
      "      28.      Lyme disease bacteria eradicated by new drug in early tests (stanford.edu)\n",
      "        748 points by dempedempe 18 hours ago  | hide | 149 comments              \n",
      "      \n",
      "                \n",
      "      29.      “farewell outline. we have all been laid off.” (twitter.com)\n",
      "        80 points by petercooper 3 hours ago  | hide | 23 comments              \n",
      "      \n",
      "                \n",
      "      30.      The Anarchist Abstractionist – Who Was Alexander Grothendieck? (medium.com)\n",
      "        120 points by jorgenveisdal 11 hours ago  | hide | 41 comments              \n",
      "      \n",
      "            More\n",
      "  \n",
      "\n",
      "Guidelines\n",
      "        | FAQ\n",
      "        | Support\n",
      "        | API\n",
      "        | Security\n",
      "        | Lists\n",
      "        | Bookmarklet\n",
      "        | Legal\n",
      "        | Apply to YC\n",
      "        | ContactSearch:\n",
      "          \n",
      "            \n",
      "      \n",
      "\n"
     ]
    }
   ],
   "source": [
    "from bs4 import BeautifulSoup\n",
    "\n",
    "# Remove HTML tags using Beautiful Soup library\n",
    "soup = BeautifulSoup(r.text, \"html5lib\")\n",
    "print(soup.get_text())"
   ]
  },
  {
   "cell_type": "code",
   "execution_count": 28,
   "metadata": {
    "scrolled": true
   },
   "outputs": [
    {
     "data": {
      "text/plain": [
       "<tr class=\"athing\" id=\"22770700\">\n",
       "      <td align=\"right\" class=\"title\" valign=\"top\"><span class=\"rank\">1.</span></td>      <td class=\"votelinks\" valign=\"top\"><center><a href=\"vote?id=22770700&amp;how=up&amp;goto=news\" id=\"up_22770700\"><div class=\"votearrow\" title=\"upvote\"></div></a></center></td><td class=\"title\"><a class=\"storylink\" href=\"https://nim-lang.org/blog/2020/04/03/version-120-released.html\">Nim v1.2 Released</a><span class=\"sitebit comhead\"> (<a href=\"from?site=nim-lang.org\"><span class=\"sitestr\">nim-lang.org</span></a>)</span></td></tr>"
      ]
     },
     "execution_count": 28,
     "metadata": {},
     "output_type": "execute_result"
    }
   ],
   "source": [
    "# Find all articles\n",
    "summaries = soup.find_all(\"tr\", class_=\"athing\")\n",
    "summaries[0]"
   ]
  },
  {
   "cell_type": "code",
   "execution_count": 29,
   "metadata": {},
   "outputs": [
    {
     "data": {
      "text/plain": [
       "'Nim v1.2 Released'"
      ]
     },
     "execution_count": 29,
     "metadata": {},
     "output_type": "execute_result"
    }
   ],
   "source": [
    "# Extract title\n",
    "summaries[0].find(\"a\", class_=\"storylink\").get_text().strip()"
   ]
  },
  {
   "cell_type": "code",
   "execution_count": 30,
   "metadata": {},
   "outputs": [
    {
     "name": "stdout",
     "output_type": "stream",
     "text": [
      "30 Article summaries found. Sample:\n",
      "Nim v1.2 Released\n"
     ]
    }
   ],
   "source": [
    "# Find all articles, extract titles\n",
    "articles = []\n",
    "summaries = soup.find_all(\"tr\", class_=\"athing\")\n",
    "for summary in summaries:\n",
    "    title = summary.find(\"a\", class_=\"storylink\").get_text().strip()\n",
    "    articles.append((title))\n",
    "\n",
    "print(len(articles), \"Article summaries found. Sample:\")\n",
    "print(articles[0])"
   ]
  },
  {
   "cell_type": "markdown",
   "metadata": {
    "collapsed": true
   },
   "source": [
    "## Normalization"
   ]
  },
  {
   "cell_type": "markdown",
   "metadata": {},
   "source": [
    "### Case Normalization"
   ]
  },
  {
   "cell_type": "code",
   "execution_count": 31,
   "metadata": {},
   "outputs": [
    {
     "name": "stdout",
     "output_type": "stream",
     "text": [
      "The first time you see The Second Renaissance it may look boring. Look at it at least twice and definitely watch part 2. It will change your view of the matrix. Are the human people the ones who started the war ? Is AI a bad thing ?\n"
     ]
    }
   ],
   "source": [
    "# Sample text\n",
    "text = \"The first time you see The Second Renaissance it may look boring. Look at it at least twice and definitely watch part 2. It will change your view of the matrix. Are the human people the ones who started the war ? Is AI a bad thing ?\"\n",
    "print(text)"
   ]
  },
  {
   "cell_type": "code",
   "execution_count": 32,
   "metadata": {},
   "outputs": [
    {
     "name": "stdout",
     "output_type": "stream",
     "text": [
      "the first time you see the second renaissance it may look boring. look at it at least twice and definitely watch part 2. it will change your view of the matrix. are the human people the ones who started the war ? is ai a bad thing ?\n"
     ]
    }
   ],
   "source": [
    "# Convert to lowercase\n",
    "text = text.lower() \n",
    "print(text)"
   ]
  },
  {
   "cell_type": "markdown",
   "metadata": {},
   "source": [
    "### Punctuation Removal"
   ]
  },
  {
   "cell_type": "code",
   "execution_count": 33,
   "metadata": {},
   "outputs": [
    {
     "name": "stdout",
     "output_type": "stream",
     "text": [
      "the first time you see the second renaissance it may look boring  look at it at least twice and definitely watch part 2  it will change your view of the matrix  are the human people the ones who started the war   is ai a bad thing  \n"
     ]
    }
   ],
   "source": [
    "import re\n",
    "\n",
    "# Remove punctuation characters\n",
    "text = re.sub(r\"[^a-zA-Z0-9]\", \" \", text) \n",
    "print(text)"
   ]
  },
  {
   "cell_type": "markdown",
   "metadata": {},
   "source": [
    "## Tokenization"
   ]
  },
  {
   "cell_type": "code",
   "execution_count": 34,
   "metadata": {},
   "outputs": [
    {
     "name": "stdout",
     "output_type": "stream",
     "text": [
      "['the', 'first', 'time', 'you', 'see', 'the', 'second', 'renaissance', 'it', 'may', 'look', 'boring', 'look', 'at', 'it', 'at', 'least', 'twice', 'and', 'definitely', 'watch', 'part', '2', 'it', 'will', 'change', 'your', 'view', 'of', 'the', 'matrix', 'are', 'the', 'human', 'people', 'the', 'ones', 'who', 'started', 'the', 'war', 'is', 'ai', 'a', 'bad', 'thing']\n"
     ]
    }
   ],
   "source": [
    "# Split text into tokens (words)\n",
    "words = text.split()\n",
    "print(words)"
   ]
  },
  {
   "cell_type": "markdown",
   "metadata": {},
   "source": [
    "### NLTK: Natural Language ToolKit"
   ]
  },
  {
   "cell_type": "code",
   "execution_count": 35,
   "metadata": {},
   "outputs": [],
   "source": [
    "import os\n",
    "import nltk\n",
    "nltk.data.path.append(os.path.join(os.getcwd(), \"nltk_data\"))"
   ]
  },
  {
   "cell_type": "code",
   "execution_count": 36,
   "metadata": {},
   "outputs": [
    {
     "name": "stdout",
     "output_type": "stream",
     "text": [
      "Dr. Smith graduated from the University of Washington. He later started an analytics firm called Lux, which catered to enterprise customers.\n"
     ]
    }
   ],
   "source": [
    "# Another sample text\n",
    "text = \"Dr. Smith graduated from the University of Washington. He later started an analytics firm called Lux, which catered to enterprise customers.\"\n",
    "print(text)"
   ]
  },
  {
   "cell_type": "code",
   "execution_count": 37,
   "metadata": {},
   "outputs": [
    {
     "name": "stdout",
     "output_type": "stream",
     "text": [
      "['Dr.', 'Smith', 'graduated', 'from', 'the', 'University', 'of', 'Washington', '.', 'He', 'later', 'started', 'an', 'analytics', 'firm', 'called', 'Lux', ',', 'which', 'catered', 'to', 'enterprise', 'customers', '.']\n"
     ]
    }
   ],
   "source": [
    "from nltk.tokenize import word_tokenize\n",
    "\n",
    "# Split text into words using NLTK\n",
    "words = word_tokenize(text)\n",
    "print(words)"
   ]
  },
  {
   "cell_type": "code",
   "execution_count": 38,
   "metadata": {},
   "outputs": [
    {
     "name": "stdout",
     "output_type": "stream",
     "text": [
      "['Dr. Smith graduated from the University of Washington.', 'He later started an analytics firm called Lux, which catered to enterprise customers.']\n"
     ]
    }
   ],
   "source": [
    "from nltk.tokenize import sent_tokenize\n",
    "\n",
    "# Split text into sentences\n",
    "sentences = sent_tokenize(text)\n",
    "print(sentences)"
   ]
  },
  {
   "cell_type": "code",
   "execution_count": 40,
   "metadata": {},
   "outputs": [
    {
     "name": "stderr",
     "output_type": "stream",
     "text": [
      "[nltk_data] Downloading package stopwords to\n",
      "[nltk_data]     C:\\Users\\deadl\\AppData\\Roaming\\nltk_data...\n"
     ]
    },
    {
     "name": "stdout",
     "output_type": "stream",
     "text": [
      "['i', 'me', 'my', 'myself', 'we', 'our', 'ours', 'ourselves', 'you', \"you're\", \"you've\", \"you'll\", \"you'd\", 'your', 'yours', 'yourself', 'yourselves', 'he', 'him', 'his', 'himself', 'she', \"she's\", 'her', 'hers', 'herself', 'it', \"it's\", 'its', 'itself', 'they', 'them', 'their', 'theirs', 'themselves', 'what', 'which', 'who', 'whom', 'this', 'that', \"that'll\", 'these', 'those', 'am', 'is', 'are', 'was', 'were', 'be', 'been', 'being', 'have', 'has', 'had', 'having', 'do', 'does', 'did', 'doing', 'a', 'an', 'the', 'and', 'but', 'if', 'or', 'because', 'as', 'until', 'while', 'of', 'at', 'by', 'for', 'with', 'about', 'against', 'between', 'into', 'through', 'during', 'before', 'after', 'above', 'below', 'to', 'from', 'up', 'down', 'in', 'out', 'on', 'off', 'over', 'under', 'again', 'further', 'then', 'once', 'here', 'there', 'when', 'where', 'why', 'how', 'all', 'any', 'both', 'each', 'few', 'more', 'most', 'other', 'some', 'such', 'no', 'nor', 'not', 'only', 'own', 'same', 'so', 'than', 'too', 'very', 's', 't', 'can', 'will', 'just', 'don', \"don't\", 'should', \"should've\", 'now', 'd', 'll', 'm', 'o', 're', 've', 'y', 'ain', 'aren', \"aren't\", 'couldn', \"couldn't\", 'didn', \"didn't\", 'doesn', \"doesn't\", 'hadn', \"hadn't\", 'hasn', \"hasn't\", 'haven', \"haven't\", 'isn', \"isn't\", 'ma', 'mightn', \"mightn't\", 'mustn', \"mustn't\", 'needn', \"needn't\", 'shan', \"shan't\", 'shouldn', \"shouldn't\", 'wasn', \"wasn't\", 'weren', \"weren't\", 'won', \"won't\", 'wouldn', \"wouldn't\"]\n"
     ]
    },
    {
     "name": "stderr",
     "output_type": "stream",
     "text": [
      "[nltk_data]   Unzipping corpora\\stopwords.zip.\n"
     ]
    }
   ],
   "source": [
    "# List stop words\n",
    "from nltk.corpus import stopwords\n",
    "nltk.download('stopwords')\n",
    "print(stopwords.words(\"english\"))"
   ]
  },
  {
   "cell_type": "code",
   "execution_count": 41,
   "metadata": {},
   "outputs": [
    {
     "name": "stdout",
     "output_type": "stream",
     "text": [
      "['the', 'first', 'time', 'you', 'see', 'the', 'second', 'renaissance', 'it', 'may', 'look', 'boring', 'look', 'at', 'it', 'at', 'least', 'twice', 'and', 'definitely', 'watch', 'part', '2', 'it', 'will', 'change', 'your', 'view', 'of', 'the', 'matrix', 'are', 'the', 'human', 'people', 'the', 'ones', 'who', 'started', 'the', 'war', 'is', 'ai', 'a', 'bad', 'thing']\n"
     ]
    }
   ],
   "source": [
    "# Reset text\n",
    "text = \"The first time you see The Second Renaissance it may look boring. Look at it at least twice and definitely watch part 2. It will change your view of the matrix. Are the human people the ones who started the war ? Is AI a bad thing ?\"\n",
    "\n",
    "# Normalize it\n",
    "text = re.sub(r\"[^a-zA-Z0-9]\", \" \", text.lower())\n",
    "\n",
    "# Tokenize it\n",
    "words = text.split()\n",
    "print(words)"
   ]
  },
  {
   "cell_type": "code",
   "execution_count": 42,
   "metadata": {},
   "outputs": [
    {
     "name": "stdout",
     "output_type": "stream",
     "text": [
      "['first', 'time', 'see', 'second', 'renaissance', 'may', 'look', 'boring', 'look', 'least', 'twice', 'definitely', 'watch', 'part', '2', 'change', 'view', 'matrix', 'human', 'people', 'ones', 'started', 'war', 'ai', 'bad', 'thing']\n"
     ]
    }
   ],
   "source": [
    "# Remove stop words\n",
    "words = [w for w in words if w not in stopwords.words(\"english\")]\n",
    "print(words)"
   ]
  },
  {
   "cell_type": "markdown",
   "metadata": {},
   "source": [
    "### Sentence Parsing"
   ]
  },
  {
   "cell_type": "code",
   "execution_count": 43,
   "metadata": {},
   "outputs": [
    {
     "name": "stdout",
     "output_type": "stream",
     "text": [
      "(S\n",
      "  (NP I)\n",
      "  (VP\n",
      "    (VP (V shot) (NP (Det an) (N elephant)))\n",
      "    (PP (P in) (NP (Det my) (N pajamas)))))\n",
      "(S\n",
      "  (NP I)\n",
      "  (VP\n",
      "    (V shot)\n",
      "    (NP (Det an) (N elephant) (PP (P in) (NP (Det my) (N pajamas))))))\n"
     ]
    }
   ],
   "source": [
    "import nltk\n",
    "\n",
    "# Define a custom grammar\n",
    "my_grammar = nltk.CFG.fromstring(\"\"\"\n",
    "S -> NP VP\n",
    "PP -> P NP\n",
    "NP -> Det N | Det N PP | 'I'\n",
    "VP -> V NP | VP PP\n",
    "Det -> 'an' | 'my'\n",
    "N -> 'elephant' | 'pajamas'\n",
    "V -> 'shot'\n",
    "P -> 'in'\n",
    "\"\"\")\n",
    "parser = nltk.ChartParser(my_grammar)\n",
    "\n",
    "# Parse a sentence\n",
    "sentence = word_tokenize(\"I shot an elephant in my pajamas\")\n",
    "for tree in parser.parse(sentence):\n",
    "    print(tree)"
   ]
  },
  {
   "cell_type": "markdown",
   "metadata": {},
   "source": [
    "# Stemming & Lemmatization\n",
    "\n",
    "### Stemming"
   ]
  },
  {
   "cell_type": "code",
   "execution_count": 49,
   "metadata": {},
   "outputs": [
    {
     "name": "stdout",
     "output_type": "stream",
     "text": [
      "['first', 'time', 'see', 'second', 'renaiss', 'may', 'look', 'bore', 'look', 'least', 'twice', 'definit', 'watch', 'part', '2', 'chang', 'view', 'matrix', 'human', 'peopl', 'one', 'start', 'war', 'ai', 'bad', 'thing']\n"
     ]
    }
   ],
   "source": [
    "from nltk.stem.porter import PorterStemmer\n",
    "#remove \" ing,ed,es etc\" or any form of verb \n",
    "# Reduce words to their stems\n",
    "stemmed = [PorterStemmer().stem(w) for w in words]\n",
    "print(stemmed)"
   ]
  },
  {
   "cell_type": "markdown",
   "metadata": {},
   "source": [
    "### Lemmatization"
   ]
  },
  {
   "cell_type": "code",
   "execution_count": 47,
   "metadata": {},
   "outputs": [
    {
     "name": "stderr",
     "output_type": "stream",
     "text": [
      "[nltk_data] Downloading package wordnet to\n",
      "[nltk_data]     C:\\Users\\deadl\\AppData\\Roaming\\nltk_data...\n",
      "[nltk_data]   Unzipping corpora\\wordnet.zip.\n"
     ]
    },
    {
     "name": "stdout",
     "output_type": "stream",
     "text": [
      "['first', 'time', 'see', 'second', 'renaissance', 'may', 'look', 'boring', 'look', 'least', 'twice', 'definitely', 'watch', 'part', '2', 'change', 'view', 'matrix', 'human', 'people', 'one', 'started', 'war', 'ai', 'bad', 'thing']\n"
     ]
    }
   ],
   "source": [
    "from nltk.stem.wordnet import WordNetLemmatizer\n",
    "nltk.download('wordnet')\n",
    "# Reduce words to their root form\n",
    "lemmed = [WordNetLemmatizer().lemmatize(w) for w in words]\n",
    "print(lemmed)"
   ]
  },
  {
   "cell_type": "code",
   "execution_count": 48,
   "metadata": {},
   "outputs": [
    {
     "name": "stdout",
     "output_type": "stream",
     "text": [
      "['first', 'time', 'see', 'second', 'renaissance', 'may', 'look', 'bore', 'look', 'least', 'twice', 'definitely', 'watch', 'part', '2', 'change', 'view', 'matrix', 'human', 'people', 'one', 'start', 'war', 'ai', 'bad', 'thing']\n"
     ]
    }
   ],
   "source": [
    "# Lemmatize verbs by specifying pos\n",
    "lemmed = [WordNetLemmatizer().lemmatize(w, pos='v') for w in lemmed]\n",
    "print(lemmed)"
   ]
  },
  {
   "cell_type": "code",
   "execution_count": null,
   "metadata": {},
   "outputs": [],
   "source": []
  }
 ],
 "metadata": {
  "kernelspec": {
   "display_name": "Python 3",
   "language": "python",
   "name": "python3"
  },
  "language_info": {
   "codemirror_mode": {
    "name": "ipython",
    "version": 3
   },
   "file_extension": ".py",
   "mimetype": "text/x-python",
   "name": "python",
   "nbconvert_exporter": "python",
   "pygments_lexer": "ipython3",
   "version": "3.6.9"
  }
 },
 "nbformat": 4,
 "nbformat_minor": 2
}
