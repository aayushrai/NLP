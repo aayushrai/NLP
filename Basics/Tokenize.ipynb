{
 "cells": [
  {
   "cell_type": "code",
   "execution_count": 10,
   "metadata": {},
   "outputs": [],
   "source": [
    "\n",
    "import re\n",
    "\n",
    "def sent_tokenize(text):\n",
    "    \"\"\"Split text into sentences.\"\"\"\n",
    "    \n",
    "    sentences = re.split(\"\\n\",text)\n",
    "    \n",
    "    sentences = [sentence.strip() for sentence in sentences]\n",
    "    return [sentence for sentence in sentences if sentence != \"\"]\n",
    "\n",
    "\n",
    "def word_tokenize(sent):\n",
    "    \"\"\"Split a sentence into words.\"\"\"\n",
    "    \n",
    "    words = re.findall(\"[a-zA-Z]*\",sent)\n",
    "    words = [word.strip() for word in words]\n",
    "    \n",
    "    return  [word for word in words if word != \"\"]\n",
    "\n",
    "\n",
    "def test_run():\n",
    "    \"\"\"Called on Test Run.\"\"\"\n",
    "\n",
    "    text = \"The first time you see The Second Renaissance it may look boring. Look at it at least twice and definitely watch part 2. It will change your view of the matrix. Are the human people the ones who started the war? Is AI a bad thing?\"\n",
    "    print(\"--- Sample text ---\", text, sep=\"\\n\")\n",
    "    \n",
    "    sentences = sent_tokenize(text)\n",
    "    print(\"\\n--- Sentences ---\")\n",
    "    print(sentences)\n",
    "    \n",
    "    print(\"\\n--- Words ---\")\n",
    "    for sent in sentences:\n",
    "        print(sent)\n",
    "        print(word_tokenize(sent))\n",
    "        print()  # blank line for readability"
   ]
  },
  {
   "cell_type": "code",
   "execution_count": 11,
   "metadata": {},
   "outputs": [
    {
     "name": "stdout",
     "output_type": "stream",
     "text": [
      "--- Sample text ---\n",
      "The first time you see The Second Renaissance it may look boring. Look at it at least twice and definitely watch part 2. It will change your view of the matrix. Are the human people the ones who started the war? Is AI a bad thing?\n",
      "\n",
      "--- Sentences ---\n",
      "['The first time you see The Second Renaissance it may look boring. Look at it at least twice and definitely watch part 2. It will change your view of the matrix. Are the human people the ones who started the war? Is AI a bad thing?']\n",
      "\n",
      "--- Words ---\n",
      "The first time you see The Second Renaissance it may look boring. Look at it at least twice and definitely watch part 2. It will change your view of the matrix. Are the human people the ones who started the war? Is AI a bad thing?\n",
      "['The', 'first', 'time', 'you', 'see', 'The', 'Second', 'Renaissance', 'it', 'may', 'look', 'boring', 'Look', 'at', 'it', 'at', 'least', 'twice', 'and', 'definitely', 'watch', 'part', 'It', 'will', 'change', 'your', 'view', 'of', 'the', 'matrix', 'Are', 'the', 'human', 'people', 'the', 'ones', 'who', 'started', 'the', 'war', 'Is', 'AI', 'a', 'bad', 'thing']\n",
      "\n"
     ]
    }
   ],
   "source": [
    "test_run()"
   ]
  },
  {
   "cell_type": "code",
   "execution_count": null,
   "metadata": {},
   "outputs": [],
   "source": []
  }
 ],
 "metadata": {
  "kernelspec": {
   "display_name": "Python 3",
   "language": "python",
   "name": "python3"
  },
  "language_info": {
   "codemirror_mode": {
    "name": "ipython",
    "version": 3
   },
   "file_extension": ".py",
   "mimetype": "text/x-python",
   "name": "python",
   "nbconvert_exporter": "python",
   "pygments_lexer": "ipython3",
   "version": "3.6.9"
  }
 },
 "nbformat": 4,
 "nbformat_minor": 2
}
