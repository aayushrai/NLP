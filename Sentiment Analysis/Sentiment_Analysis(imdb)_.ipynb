{
  "nbformat": 4,
  "nbformat_minor": 0,
  "metadata": {
    "colab": {
      "name": "Sentiment Analysis(imdb) .ipynb",
      "provenance": [],
      "collapsed_sections": [],
      "include_colab_link": true
    },
    "kernelspec": {
      "name": "python3",
      "display_name": "Python 3"
    },
    "language_info": {
      "codemirror_mode": {
        "name": "ipython",
        "version": 3
      },
      "file_extension": ".py",
      "mimetype": "text/x-python",
      "name": "python",
      "nbconvert_exporter": "python",
      "pygments_lexer": "ipython3",
      "version": "3.6.9"
    },
    "accelerator": "GPU"
  },
  "cells": [
    {
      "cell_type": "markdown",
      "metadata": {
        "id": "view-in-github",
        "colab_type": "text"
      },
      "source": [
        "<a href=\"https://colab.research.google.com/github/aayushrai/NLP/blob/master/Sentiment%20Analysis/Sentiment_Analysis(imdb)_.ipynb\" target=\"_parent\"><img src=\"https://colab.research.google.com/assets/colab-badge.svg\" alt=\"Open In Colab\"/></a>"
      ]
    },
    {
      "cell_type": "code",
      "metadata": {
        "colab_type": "code",
        "id": "9J2TSxKAaydu",
        "outputId": "90e6f3b6-ebfd-4004-a03e-d73956340a85",
        "colab": {
          "base_uri": "https://localhost:8080/",
          "height": 207
        }
      },
      "source": [
        "#Download imdb movie review dataset \n",
        "\n",
        "!wget http://ai.stanford.edu/~amaas/data/sentiment/aclImdb_v1.tar.gz"
      ],
      "execution_count": 1,
      "outputs": [
        {
          "output_type": "stream",
          "text": [
            "--2020-04-09 13:14:22--  http://ai.stanford.edu/~amaas/data/sentiment/aclImdb_v1.tar.gz\n",
            "Resolving ai.stanford.edu (ai.stanford.edu)... 171.64.68.10\n",
            "Connecting to ai.stanford.edu (ai.stanford.edu)|171.64.68.10|:80... connected.\n",
            "HTTP request sent, awaiting response... 200 OK\n",
            "Length: 84125825 (80M) [application/x-gzip]\n",
            "Saving to: ‘aclImdb_v1.tar.gz’\n",
            "\n",
            "aclImdb_v1.tar.gz   100%[===================>]  80.23M  18.6MB/s    in 7.4s    \n",
            "\n",
            "2020-04-09 13:14:30 (10.8 MB/s) - ‘aclImdb_v1.tar.gz’ saved [84125825/84125825]\n",
            "\n"
          ],
          "name": "stdout"
        }
      ]
    },
    {
      "cell_type": "code",
      "metadata": {
        "colab_type": "code",
        "id": "LcoLxAzrbJoV",
        "colab": {}
      },
      "source": [
        "!tar -xvzf /content/aclImdb_v1.tar.gz"
      ],
      "execution_count": 0,
      "outputs": []
    },
    {
      "cell_type": "code",
      "metadata": {
        "colab_type": "code",
        "id": "d6s3LF8icYw8",
        "colab": {}
      },
      "source": [
        "import os\n",
        "import numpy as np\n",
        "import matplotlib.pyplot as plt\n",
        "from sklearn.utils import shuffle"
      ],
      "execution_count": 0,
      "outputs": []
    },
    {
      "cell_type": "code",
      "metadata": {
        "colab_type": "code",
        "id": "5EpzqXO0bWxy",
        "colab": {}
      },
      "source": [
        "def read_data(base):\n",
        "    X_train = []\n",
        "    Y_train = []\n",
        "    X_test = []\n",
        "    Y_test = []\n",
        "    for folder in [\"train\",\"test\"]:\n",
        "      for label in [\"pos\",\"neg\"]:\n",
        "        path = os.path.join(base,folder,label)\n",
        "        for file_name in os.listdir(path):\n",
        "          with open(os.path.join(path,file_name)) as review:\n",
        "            if folder == \"train\":\n",
        "              X_train.append(review.read())\n",
        "              if label == \"pos\":\n",
        "                Y_train.append(1)\n",
        "              else:\n",
        "                Y_train.append(0)\n",
        "            elif folder == \"test\":\n",
        "              X_test.append(review.read())\n",
        "              if label == \"pos\":\n",
        "                Y_test.append(1)\n",
        "              else:\n",
        "                Y_test.append(0)\n",
        "    print(\"X_train ,Y_train :\",len(X_train),len(Y_train))\n",
        "    print(\"X_test ,Y_test:\",len(X_test),len(Y_test))\n",
        "    assert (len(X_train) == len(Y_train)),\"X_train and Y_train length is not equal\"\n",
        "    assert (len(X_test) == len(Y_test)),\"X_test and Y_test length is not equal\"\n",
        "    X_train,Y_train = shuffle(X_train,Y_train)\n",
        "    X_test,Y_test = shuffle(X_test,Y_test)\n",
        "    return X_train,Y_train,X_test,Y_test"
      ],
      "execution_count": 0,
      "outputs": []
    },
    {
      "cell_type": "code",
      "metadata": {
        "colab_type": "code",
        "id": "Rj0UJB7KeDos",
        "outputId": "529f8dbe-a31e-4bae-9a3a-f0c1160d05be",
        "colab": {
          "base_uri": "https://localhost:8080/",
          "height": 52
        }
      },
      "source": [
        "base = \"/content/aclImdb/\"\n",
        "X_train,Y_train,X_test,Y_test = read_data(base)"
      ],
      "execution_count": 5,
      "outputs": [
        {
          "output_type": "stream",
          "text": [
            "X_train ,Y_train : 25000 25000\n",
            "X_test ,Y_test: 25000 25000\n"
          ],
          "name": "stdout"
        }
      ]
    },
    {
      "cell_type": "code",
      "metadata": {
        "colab_type": "code",
        "id": "v_BZMOIhg5iJ",
        "outputId": "a551ec03-aefa-4e9b-94af-76ff004b653d",
        "colab": {
          "base_uri": "https://localhost:8080/",
          "height": 69
        }
      },
      "source": [
        "from bs4 import BeautifulSoup\n",
        "from string import punctuation\n",
        "from nltk.corpus import stopwords\n",
        "from nltk.stem.porter import *\n",
        "import nltk\n",
        "import re\n",
        "nltk.download('stopwords')"
      ],
      "execution_count": 6,
      "outputs": [
        {
          "output_type": "stream",
          "text": [
            "[nltk_data] Downloading package stopwords to /root/nltk_data...\n",
            "[nltk_data]   Unzipping corpora/stopwords.zip.\n"
          ],
          "name": "stdout"
        },
        {
          "output_type": "execute_result",
          "data": {
            "text/plain": [
              "True"
            ]
          },
          "metadata": {
            "tags": []
          },
          "execution_count": 6
        }
      ]
    },
    {
      "cell_type": "code",
      "metadata": {
        "colab_type": "code",
        "id": "vkno9VxnkHqg",
        "colab": {}
      },
      "source": [
        "stemmer = PorterStemmer()\n",
        "stopWords = set(stopwords.words('english'))"
      ],
      "execution_count": 0,
      "outputs": []
    },
    {
      "cell_type": "code",
      "metadata": {
        "colab_type": "code",
        "id": "PlCJMNDqqhp5",
        "colab": {}
      },
      "source": [
        "def review_to_words(review):\n",
        "  soup = BeautifulSoup(review,\"html5lib\")\n",
        "  text = \"\".join([text for text in soup.stripped_strings])\n",
        "  for char in punctuation+\"1234567890\":\n",
        "    text = text.replace(char,\" \")\n",
        "  \n",
        "  words = text.lower().split()\n",
        "\n",
        "  filter_words = []\n",
        "  for word in words:\n",
        "    if word not in stopWords:\n",
        "      filter_words.append(word)\n",
        "  words = []\n",
        "  for word in filter_words:\n",
        "    words.append(stemmer.stem(word))\n",
        "  return words"
      ],
      "execution_count": 0,
      "outputs": []
    },
    {
      "cell_type": "code",
      "metadata": {
        "id": "Ts0q3cHd86hc",
        "colab_type": "code",
        "colab": {
          "base_uri": "https://localhost:8080/",
          "height": 210
        },
        "outputId": "75f39282-403f-4f34-c14e-17d6f1a2cee6"
      },
      "source": [
        "import pickle\n",
        "\n",
        "cache_dir = os.path.join(\"cache\", \"sentiment_analysis\")  # where to store cache files\n",
        "os.makedirs(cache_dir, exist_ok=True)  # ensure cache directory exists\n",
        "\n",
        "def preprocess_data(data_train, data_test, labels_train, labels_test,\n",
        "                    cache_dir=cache_dir, cache_file=\"preprocessed_data.pkl\"):\n",
        "    \"\"\"Convert each review to words; read from cache if available.\"\"\"\n",
        "\n",
        "    # If cache_file is not None, try to read from it first\n",
        "    cache_data = None\n",
        "    if cache_file is not None:\n",
        "        try:\n",
        "            with open(os.path.join(cache_dir, cache_file), \"rb\") as f:\n",
        "                cache_data = pickle.load(f)\n",
        "            print(\"Read preprocessed data from cache file:\", cache_file)\n",
        "        except:\n",
        "            pass  # unable to read from cache, but that's okay\n",
        "    \n",
        "    # If cache is missing, then do the heavy lifting\n",
        "    if cache_data is None:\n",
        "        # Preprocess training and test data to obtain words for each review\n",
        "        words_train = list(map(review_to_words, data_train))\n",
        "        words_test = list(map(review_to_words, data_test))\n",
        "        \n",
        "        # Write to cache file for future runs\n",
        "        if cache_file is not None:\n",
        "            cache_data = dict(words_train=words_train, words_test=words_test,\n",
        "                              labels_train=labels_train, labels_test=labels_test)\n",
        "            with open(os.path.join(cache_dir, cache_file), \"wb\") as f:\n",
        "                pickle.dump(cache_data, f)\n",
        "            print(\"Wrote preprocessed data to cache file:\", cache_file)\n",
        "    else:\n",
        "        # Unpack data loaded from cache file\n",
        "        words_train, words_test, labels_train, labels_test = (cache_data['words_train'],\n",
        "                cache_data['words_test'], cache_data['labels_train'], cache_data['labels_test'])\n",
        "    \n",
        "    return words_train, words_test, labels_train, labels_test\n",
        "\n",
        "\n",
        "# Preprocess data\n",
        "words_train, words_test, labels_train, labels_test = preprocess_data(\n",
        "        X_train, X_test, Y_train, Y_test)\n",
        "\n",
        "# Take a look at a sample\n",
        "print(\"\\n--- Raw review ---\")\n",
        "print(X_train[1])\n",
        "print(\"\\n--- Preprocessed words ---\")\n",
        "print(words_train[1])\n",
        "print(\"\\n--- Label ---\")\n",
        "print(Y_train[1])"
      ],
      "execution_count": 9,
      "outputs": [
        {
          "output_type": "stream",
          "text": [
            "Wrote preprocessed data to cache file: preprocessed_data.pkl\n",
            "\n",
            "--- Raw review ---\n",
            "\"Still Crazy\" is without a doubt the greatest rock comedy of all-time. It has been erroneously compared to \"This Is Spinal Tap\", which it has no relation to. \"Spinal Tap\" is a satire (and, quite frankly, not a very good one, in spite of it's \"outing\" of many rock clichés). Unlike \"Tap\", \"Still Crazy\" is populated by great actors, great songs and great human situations. You CARE about the people in \"Still Crazy\". That's all that matters. Oh, yeah, the music's pretty damn good, too, written by Mick Jones of Foreigner and Chris Difford of Squeeze. American audiences were already familiar with Stephen Rea (The Crying Game), but would only later become familiar with Bill Nighy (Underworld, Love Actually, Pirates Of The Caribbean II) and Timothy Spall (the Harry Potter movies).\n",
            "\n",
            "--- Preprocessed words ---\n",
            "['still', 'crazi', 'without', 'doubt', 'greatest', 'rock', 'comedi', 'time', 'erron', 'compar', 'spinal', 'tap', 'relat', 'spinal', 'tap', 'satir', 'quit', 'frankli', 'good', 'one', 'spite', 'outing', 'mani', 'rock', 'cliché', 'unlik', 'tap', 'still', 'crazi', 'popul', 'great', 'actor', 'great', 'song', 'great', 'human', 'situat', 'care', 'peopl', 'still', 'crazi', 'matter', 'oh', 'yeah', 'music', 'pretti', 'damn', 'good', 'written', 'mick', 'jone', 'foreign', 'chri', 'difford', 'squeez', 'american', 'audienc', 'alreadi', 'familiar', 'stephen', 'rea', 'cri', 'game', 'would', 'later', 'becom', 'familiar', 'bill', 'nighi', 'underworld', 'love', 'actual', 'pirat', 'caribbean', 'ii', 'timothi', 'spall', 'harri', 'potter', 'movi']\n",
            "\n",
            "--- Label ---\n",
            "1\n"
          ],
          "name": "stdout"
        }
      ]
    },
    {
      "cell_type": "code",
      "metadata": {
        "colab_type": "code",
        "id": "XVprfBueqlZC",
        "colab": {
          "base_uri": "https://localhost:8080/",
          "height": 279
        },
        "outputId": "95096f2c-5ce4-4f66-8f3b-2c0f7a43f7ab"
      },
      "source": [
        "import numpy as np\n",
        "from sklearn.feature_extraction.text import CountVectorizer\n",
        "from sklearn.externals import joblib\n",
        "# joblib is an enhanced version of pickle that is more efficient for storing NumPy arrays\n",
        "\n",
        "def extract_BoW_features(words_train, words_test, vocabulary_size=5000,\n",
        "                         cache_dir=cache_dir, cache_file=\"bow_features.pkl\"):\n",
        "    \"\"\"Extract Bag-of-Words for a given set of documents, already preprocessed into words.\"\"\"\n",
        "    \n",
        "    # If cache_file is not None, try to read from it first\n",
        "    cache_data = None\n",
        "    if cache_file is not None:\n",
        "        try:\n",
        "            with open(os.path.join(cache_dir, cache_file), \"rb\") as f:\n",
        "                cache_data = joblib.load(f)\n",
        "            print(\"Read features from cache file:\", cache_file)\n",
        "        except:\n",
        "            pass  # unable to read from cache, but that's okay\n",
        "    \n",
        "    # If cache is missing, then do the heavy lifting\n",
        "    if cache_data is None:\n",
        "        # TODO: Fit a vectorizer to training documents and use it to transform them\n",
        "        # NOTE: Training documents have already been preprocessed and tokenized into words;\n",
        "        #       pass in dummy functions to skip those steps, e.g. preprocessor=lambda x: x\n",
        "        vectorizer = CountVectorizer(preprocessor=lambda x: x, tokenizer=lambda x: x, max_features=vocabulary_size)\n",
        "        features_train = vectorizer.fit_transform(words_train).toarray() #does a combined fit() and transform()\n",
        "\n",
        "        # TODO: Apply the same vectorizer to transform the test documents (ignore unknown words)\n",
        "        features_test = vectorizer.transform(words_test).toarray() # only do transform on test set, use same fit parameters\n",
        "        \n",
        "        # NOTE: Remember to convert the features using .toarray() for a compact representation\n",
        "        \n",
        "        # Write to cache file for future runs (store vocabulary as well)\n",
        "        if cache_file is not None:\n",
        "            vocabulary = vectorizer.vocabulary_\n",
        "            cache_data = dict(features_train=features_train, features_test=features_test,\n",
        "                             vocabulary=vocabulary)\n",
        "            with open(os.path.join(cache_dir, cache_file), \"wb\") as f:\n",
        "                joblib.dump(cache_data, f)\n",
        "            print(\"Wrote features to cache file:\", cache_file)\n",
        "    else:\n",
        "        # Unpack data loaded from cache file\n",
        "        features_train, features_test, vocabulary = (cache_data['features_train'],\n",
        "                cache_data['features_test'], cache_data['vocabulary'])\n",
        "    \n",
        "    # Return both the extracted features as well as the vocabulary\n",
        "    return features_train, features_test, vocabulary\n",
        "\n",
        "\n",
        "# Extract Bag of Words features for both training and test datasets\n",
        "features_train, features_test, vocabulary = extract_BoW_features(words_train, words_test)\n",
        "\n",
        "# Inspect the vocabulary that was computed\n",
        "print(\"Vocabulary: {} words\".format(len(vocabulary)))\n",
        "\n",
        "import random\n",
        "print(\"Sample words: {}\".format(random.sample(list(vocabulary.keys()), 8)))\n",
        "\n",
        "# Sample\n",
        "print(\"\\n--- Preprocessed words ---\")\n",
        "print(words_train[5])\n",
        "print(\"\\n--- Bag-of-Words features ---\")\n",
        "print(features_train[5])\n",
        "print(\"\\n--- Label ---\")\n",
        "print(Y_test[5])"
      ],
      "execution_count": 10,
      "outputs": [
        {
          "output_type": "stream",
          "text": [
            "/usr/local/lib/python3.6/dist-packages/sklearn/externals/joblib/__init__.py:15: FutureWarning: sklearn.externals.joblib is deprecated in 0.21 and will be removed in 0.23. Please import this functionality directly from joblib, which can be installed with: pip install joblib. If this warning is raised when loading pickled models, you may need to re-serialize those models with scikit-learn 0.21+.\n",
            "  warnings.warn(msg, category=FutureWarning)\n"
          ],
          "name": "stderr"
        },
        {
          "output_type": "stream",
          "text": [
            "Wrote features to cache file: bow_features.pkl\n",
            "Vocabulary: 5000 words\n",
            "Sample words: ['glad', 'streisand', 'varieti', 'bag', 'sissi', 'amazingli', 'miss', 'astound']\n",
            "\n",
            "--- Preprocessed words ---\n",
            "['spoiler', 'movi', 'concept', 'william', 'go', 'low', 'order', 'replay', 'footbal', 'game', 'haunt', 'life', 'russel', 'play', 'ex', 'jock', 'peak', 'high', 'school', 'final', 'dog', 'get', 'shot', 'william', 'save', 'face', 'instead', 'clown', 'great', 'revers', 'tragedi']\n",
            "\n",
            "--- Bag-of-Words features ---\n",
            "[0 0 0 ... 0 0 0]\n",
            "\n",
            "--- Label ---\n",
            "0\n"
          ],
          "name": "stdout"
        }
      ]
    },
    {
      "cell_type": "code",
      "metadata": {
        "colab_type": "code",
        "id": "CrrULHo053Me",
        "colab": {
          "base_uri": "https://localhost:8080/",
          "height": 279
        },
        "outputId": "f5316d93-3c18-498a-a13a-3c3f872eebec"
      },
      "source": [
        "import matplotlib.pyplot as plt\n",
        "%matplotlib inline\n",
        "# Plot the BoW feature vector for a training document\n",
        "plt.plot(features_train[5,:])\n",
        "plt.xlabel('Word')\n",
        "plt.ylabel('Count')\n",
        "plt.show()"
      ],
      "execution_count": 11,
      "outputs": [
        {
          "output_type": "display_data",
          "data": {
            "image/png": "[encoded data removed]",
            "text/plain": [
              "<Figure size 432x288 with 1 Axes>"
            ]
          },
          "metadata": {
            "tags": []
          }
        }
      ]
    },
    {
      "cell_type": "code",
      "metadata": {
        "id": "qlDnhBlA_aNA",
        "colab_type": "code",
        "colab": {
          "base_uri": "https://localhost:8080/",
          "height": 283
        },
        "outputId": "8e6ecad6-49c2-4ff2-b947-2644613e5c07"
      },
      "source": [
        "word_freq = features_train.sum(axis=0)\n",
        "sorted_word_freq = np.sort(word_freq)[::-1]\n",
        "plt.plot(sorted_word_freq)\n",
        "plt.gca().set_xscale('log')\n",
        "plt.gca().set_yscale('log')\n",
        "plt.xlabel('Rank')\n",
        "plt.ylabel('Number of occurrences')\n",
        "plt.show()"
      ],
      "execution_count": 12,
      "outputs": [
        {
          "output_type": "display_data",
          "data": {
            "image/png": "[encoded data removed]",
            "text/plain": [
              "<Figure size 432x288 with 1 Axes>"
            ]
          },
          "metadata": {
            "tags": []
          }
        }
      ]
    },
    {
      "cell_type": "code",
      "metadata": {
        "id": "zzBMBPgeAMZO",
        "colab_type": "code",
        "colab": {}
      },
      "source": [
        "import sklearn.preprocessing as pr\n",
        "\n",
        "# TODO: Normalize BoW features in training and test set\n",
        "features_train = pr.normalize(features_train)\n",
        "features_test = pr.normalize(features_test)"
      ],
      "execution_count": 0,
      "outputs": []
    },
    {
      "cell_type": "code",
      "metadata": {
        "id": "2iJuDHZzA-8w",
        "colab_type": "code",
        "colab": {
          "base_uri": "https://localhost:8080/",
          "height": 746
        },
        "outputId": "cd6b396d-5476-4b00-bf05-cd117924359f"
      },
      "source": [
        "from sklearn.ensemble import GradientBoostingClassifier\n",
        "from sklearn.model_selection import GridSearchCV\n",
        "#n_estimators = gsearch1.best_params_['n_estimators']\n",
        "#n_estimators = gsearch1.best_params_['n_estimators']\n",
        "\n",
        "def classify_gboost(X_train, X_test, y_train, y_test):        \n",
        "    # Initialize classifier\n",
        "    clf = GradientBoostingClassifier(learning_rate=1.0, max_depth=1, random_state=0)\n",
        "\n",
        "    # TODO: Classify the data using GradientBoostingClassifier\n",
        "    # TODO(optional): Perform hyperparameter tuning / model selection\n",
        "    gsearch = GridSearchCV(estimator = clf, param_grid = {'n_estimators': range(20, 81, 10)}, verbose=50, n_jobs=-1)\n",
        "    gsearch.fit(X_train, y_train)\n",
        "    clf = gsearch.best_estimator_\n",
        "    print(gsearch.best_params_)\n",
        "\n",
        "    \n",
        "    # TODO: Print final training & test accuracy\n",
        "    # Calculate the mean accuracy score on training and test sets\n",
        "    print(\"[{}] Accuracy: train = {}, test = {}\".format(\n",
        "        clf.__class__.__name__,\n",
        "        clf.score(X_train[:], y_train[:]),\n",
        "        clf.score(X_test[:], y_test[:])))\n",
        "    # Return best classifier model\n",
        "    return clf\n",
        "\n",
        "clf2 = classify_gboost(features_train, features_test, labels_train, labels_test)"
      ],
      "execution_count": 14,
      "outputs": [
        {
          "output_type": "stream",
          "text": [
            "Fitting 5 folds for each of 7 candidates, totalling 35 fits\n",
            "[Parallel(n_jobs=-1)]: Using backend LokyBackend with 2 concurrent workers.\n",
            "[Parallel(n_jobs=-1)]: Done   1 tasks      | elapsed:  1.0min\n",
            "[Parallel(n_jobs=-1)]: Done   2 tasks      | elapsed:  1.0min\n",
            "[Parallel(n_jobs=-1)]: Done   3 tasks      | elapsed:  2.0min\n",
            "[Parallel(n_jobs=-1)]: Done   4 tasks      | elapsed:  2.0min\n",
            "[Parallel(n_jobs=-1)]: Done   5 tasks      | elapsed:  2.9min\n",
            "[Parallel(n_jobs=-1)]: Done   6 tasks      | elapsed:  3.4min\n",
            "[Parallel(n_jobs=-1)]: Done   7 tasks      | elapsed:  4.3min\n",
            "[Parallel(n_jobs=-1)]: Done   8 tasks      | elapsed:  4.8min\n",
            "[Parallel(n_jobs=-1)]: Done   9 tasks      | elapsed:  5.7min\n",
            "[Parallel(n_jobs=-1)]: Done  10 tasks      | elapsed:  6.2min\n",
            "[Parallel(n_jobs=-1)]: Done  11 tasks      | elapsed:  7.6min\n",
            "[Parallel(n_jobs=-1)]: Done  12 tasks      | elapsed:  8.1min\n",
            "[Parallel(n_jobs=-1)]: Done  13 tasks      | elapsed:  9.5min\n",
            "[Parallel(n_jobs=-1)]: Done  14 tasks      | elapsed:  9.9min\n",
            "[Parallel(n_jobs=-1)]: Done  15 tasks      | elapsed: 11.3min\n",
            "[Parallel(n_jobs=-1)]: Done  16 tasks      | elapsed: 12.3min\n",
            "[Parallel(n_jobs=-1)]: Done  17 tasks      | elapsed: 13.7min\n"
          ],
          "name": "stdout"
        },
        {
          "output_type": "stream",
          "text": [
            "/usr/local/lib/python3.6/dist-packages/joblib/externals/loky/process_executor.py:706: UserWarning: A worker stopped while some jobs were given to the executor. This can be caused by a too short worker timeout or by a memory leak.\n",
            "  \"timeout or by a memory leak.\", UserWarning\n"
          ],
          "name": "stderr"
        },
        {
          "output_type": "stream",
          "text": [
            "[Parallel(n_jobs=-1)]: Done  18 tasks      | elapsed: 14.6min\n",
            "[Parallel(n_jobs=-1)]: Done  19 tasks      | elapsed: 16.0min\n",
            "[Parallel(n_jobs=-1)]: Done  20 tasks      | elapsed: 16.9min\n",
            "[Parallel(n_jobs=-1)]: Done  21 tasks      | elapsed: 18.8min\n",
            "[Parallel(n_jobs=-1)]: Done  22 tasks      | elapsed: 19.7min\n",
            "[Parallel(n_jobs=-1)]: Done  23 tasks      | elapsed: 21.6min\n",
            "[Parallel(n_jobs=-1)]: Done  24 tasks      | elapsed: 22.5min\n",
            "[Parallel(n_jobs=-1)]: Done  25 tasks      | elapsed: 24.4min\n",
            "[Parallel(n_jobs=-1)]: Done  26 tasks      | elapsed: 25.7min\n",
            "[Parallel(n_jobs=-1)]: Done  27 tasks      | elapsed: 27.6min\n",
            "[Parallel(n_jobs=-1)]: Done  28 tasks      | elapsed: 29.0min\n",
            "[Parallel(n_jobs=-1)]: Done  29 tasks      | elapsed: 30.8min\n",
            "[Parallel(n_jobs=-1)]: Done  30 tasks      | elapsed: 32.2min\n",
            "[Parallel(n_jobs=-1)]: Done  31 tasks      | elapsed: 34.5min\n",
            "[Parallel(n_jobs=-1)]: Done  32 tasks      | elapsed: 35.9min\n",
            "[Parallel(n_jobs=-1)]: Done  33 out of  35 | elapsed: 38.2min remaining:  2.3min\n",
            "[Parallel(n_jobs=-1)]: Done  35 out of  35 | elapsed: 40.9min remaining:    0.0s\n",
            "[Parallel(n_jobs=-1)]: Done  35 out of  35 | elapsed: 40.9min finished\n",
            "{'n_estimators': 80}\n",
            "[GradientBoostingClassifier] Accuracy: train = 0.83548, test = 0.82472\n"
          ],
          "name": "stdout"
        }
      ]
    },
    {
      "cell_type": "code",
      "metadata": {
        "id": "YnxptcdpBBmB",
        "colab_type": "code",
        "colab": {
          "base_uri": "https://localhost:8080/",
          "height": 34
        },
        "outputId": "78bc9b9f-0f56-4e2d-d5c8-c6347b2c8aa8"
      },
      "source": [
        "words = [review_to_words(\"so bad thing\")]\n",
        "output = \"pos\"\n",
        "vectorizer = CountVectorizer(preprocessor=lambda x: x, tokenizer=lambda x:x, vocabulary=vocabulary)\n",
        "print(words)\n",
        "features_myreview =vectorizer.transform(words).toarray()"
      ],
      "execution_count": 27,
      "outputs": [
        {
          "output_type": "stream",
          "text": [
            "[['bad', 'thing']]\n"
          ],
          "name": "stdout"
        }
      ]
    },
    {
      "cell_type": "code",
      "metadata": {
        "id": "WRgerGqoE_vG",
        "colab_type": "code",
        "colab": {
          "base_uri": "https://localhost:8080/",
          "height": 34
        },
        "outputId": "3eecd519-57f6-4477-8235-ab82759f3848"
      },
      "source": [
        "#print(features_myreview)\n",
        "features_myreview = pr.normalize(features_myreview)\n",
        "#print(features_myreview)\n",
        "# TODO: Then call your classifier to label it\n",
        "clf2.predict(features_myreview)[0]"
      ],
      "execution_count": 28,
      "outputs": [
        {
          "output_type": "execute_result",
          "data": {
            "text/plain": [
              "0"
            ]
          },
          "metadata": {
            "tags": []
          },
          "execution_count": 28
        }
      ]
    },
    {
      "cell_type": "code",
      "metadata": {
        "id": "ecWSyzyXQ32O",
        "colab_type": "code",
        "colab": {}
      },
      "source": [
        ""
      ],
      "execution_count": 0,
      "outputs": []
    }
  ]
}